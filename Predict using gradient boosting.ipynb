{
 "cells": [
  {
   "cell_type": "code",
   "execution_count": 66,
   "metadata": {},
   "outputs": [],
   "source": [
    "import pandas as pd\n",
    "import numpy as np\n",
    "\n",
    "import xgboost as xgb\n",
    "from sklearn.preprocessing import LabelEncoder\n",
    "import lightgbm as lgb\n",
    "import sklearn\n",
    "from sklearn.preprocessing import normalize, StandardScaler\n",
    "\n",
    "import calendar\n",
    "import datetime, time\n",
    "\n",
    "import gc\n",
    "import os\n",
    "\n",
    "import matplotlib\n",
    "% matplotlib inline"
   ]
  },
  {
   "cell_type": "code",
   "execution_count": 67,
   "metadata": {},
   "outputs": [],
   "source": [
    "out_dir = \"/home/data/kaggle-zillow/submissions/\"\n",
    "\n",
    "if not os.path.exists(out_dir):\n",
    "    os.makedirs(out_dir)"
   ]
  },
  {
   "cell_type": "markdown",
   "metadata": {},
   "source": [
    "# Load formatted data"
   ]
  },
  {
   "cell_type": "code",
   "execution_count": 32,
   "metadata": {
    "collapsed": true
   },
   "outputs": [],
   "source": [
    "# training data\n",
    "\n",
    "train_df = pd.read_csv(\"/home/data/kaggle-zillow/processed/train_formatted.csv\")\n",
    "train_df.drop(\"Unnamed: 0\", axis=1, inplace=True)\n",
    "\n",
    "train_df_dum = pd.get_dummies(train_df, columns=categ_cols, drop_first=False)\n",
    "\n",
    "\n",
    "feature_names = train_df.drop([\"logerror\", \"parcelid\"], axis=1).columns.values.tolist()"
   ]
  },
  {
   "cell_type": "code",
   "execution_count": 33,
   "metadata": {
    "collapsed": true
   },
   "outputs": [],
   "source": [
    "# pre-processing on the train data\n",
    "X_train = train_df.drop([\"logerror\", \"parcelid\"], axis=1).values\n",
    "y_train = train_df['logerror'].values\n",
    "\n",
    "# idx = (y_train > -0.4) & (y_train < 0.418)\n",
    "# X_train = X_train[idx,:]\n",
    "# y_train = y_train[idx]\n",
    "\n",
    "# X_train = normalize(X_train, norm='l2', axis=0, copy=True, return_norm=False)\n",
    "scaler = StandardScaler().fit(X_train)\n",
    "X_train= scaler.transform(X_train)"
   ]
  },
  {
   "cell_type": "code",
   "execution_count": 42,
   "metadata": {
    "collapsed": true
   },
   "outputs": [],
   "source": [
    "# test data\n",
    "\n",
    "test_df = pd.read_csv(\"/home/data/kaggle-zillow/processed/sample_formatted.csv\")\n",
    "month_cols = ['transactionmonth_Apr',\n",
    " 'transactionmonth_Aug',\n",
    " 'transactionmonth_Dec',\n",
    " 'transactionmonth_Feb',\n",
    " 'transactionmonth_Jan',\n",
    " 'transactionmonth_Jul',\n",
    " 'transactionmonth_Jun',\n",
    " 'transactionmonth_Mar',\n",
    " 'transactionmonth_May',\n",
    " 'transactionmonth_Nov',\n",
    " 'transactionmonth_Oct',\n",
    " 'transactionmonth_Sep']\n",
    "\n",
    "for c in month_cols:\n",
    "    test_df[c] = 0\n",
    "    \n",
    "X_test = test_df[[c for c in feature_names if c in test_df.columns]].values\n",
    "\n",
    "smpl_cols = [\"201610\", \"201611\", \"201612\", \"201710\", \"201711\", \"201712\"]\n",
    "smpl_cols = dict(zip(smpl_cols, [\"transactionmonth_\" + \\\n",
    "                calendar.month_abbr[int(x[-2:])] for x in smpl_cols]))"
   ]
  },
  {
   "cell_type": "code",
   "execution_count": 44,
   "metadata": {},
   "outputs": [
    {
     "data": {
      "text/plain": [
       "((2985217, 113), (2985217, 101))"
      ]
     },
     "execution_count": 44,
     "metadata": {},
     "output_type": "execute_result"
    }
   ],
   "source": [
    "test_df.shape, X_test.shape"
   ]
  },
  {
   "cell_type": "code",
   "execution_count": 47,
   "metadata": {},
   "outputs": [
    {
     "data": {
      "text/plain": [
       "{'Unnamed: 0',\n",
       " 'airconditioningtypeid_12',\n",
       " 'architecturalstyletypeid_27',\n",
       " 'architecturalstyletypeid_5',\n",
       " 'fips_0',\n",
       " 'heatingorsystemtypeid_19',\n",
       " 'heatingorsystemtypeid_21',\n",
       " 'parcelid',\n",
       " 'propertylandusetypeid_0',\n",
       " 'propertylandusetypeid_270',\n",
       " 'typeconstructiontypeid_10',\n",
       " 'typeconstructiontypeid_11'}"
      ]
     },
     "execution_count": 47,
     "metadata": {},
     "output_type": "execute_result"
    }
   ],
   "source": [
    "set(test_df.columns) - set(feature_names)"
   ]
  },
  {
   "cell_type": "markdown",
   "metadata": {},
   "source": [
    "# LGB model"
   ]
  },
  {
   "cell_type": "markdown",
   "metadata": {},
   "source": [
    "### Train model"
   ]
  },
  {
   "cell_type": "code",
   "execution_count": 36,
   "metadata": {},
   "outputs": [
    {
     "name": "stdout",
     "output_type": "stream",
     "text": [
      "\n",
      "Fitting LightGBM model ...\n"
     ]
    }
   ],
   "source": [
    "d_train = lgb.Dataset(X_train, label=y_train)\n",
    "\n",
    "params = {}\n",
    "params['max_bin'] = 10\n",
    "params['learning_rate'] = 0.0021 # shrinkage_rate\n",
    "params['boosting_type'] = 'gbdt'\n",
    "params['objective'] = 'regression'\n",
    "params['metric'] = 'l1'          # or 'mae'\n",
    "params['sub_feature'] = 0.5      # feature_fraction -- OK, back to .5, but maybe later increase this\n",
    "params['bagging_fraction'] = 0.85 # sub_row\n",
    "params['bagging_freq'] = 40\n",
    "params['num_leaves'] = 512        # num_leaf\n",
    "params['min_data'] = 500         # min_data_in_leaf\n",
    "params['min_hessian'] = 0.05     # min_sum_hessian_in_leaf\n",
    "params['verbose'] = 2\n",
    "\n",
    "print(\"\\nFitting LightGBM model ...\")\n",
    "clf = lgb.train(params, d_train, 430)\n"
   ]
  },
  {
   "cell_type": "code",
   "execution_count": 37,
   "metadata": {},
   "outputs": [
    {
     "data": {
      "text/plain": [
       "<matplotlib.axes._subplots.AxesSubplot at 0x7fd06bd24e50>"
      ]
     },
     "execution_count": 37,
     "metadata": {},
     "output_type": "execute_result"
    },
    {
     "data": {
      "image/png": "[encoded data removed]",
      "text/plain": [
       "<matplotlib.figure.Figure at 0x7fd06bd24690>"
      ]
     },
     "metadata": {},
     "output_type": "display_data"
    }
   ],
   "source": [
    "feature_importance = clf.feature_importance()\n",
    "feature_importance = feature_importance / float(feature_importance.max())\n",
    "\n",
    "feature_importance = pd.Series(dict(zip(feature_names, feature_importance)))\n",
    "feature_importance.sort_values(inplace=True)\n",
    "feature_importance[feature_importance>0].plot(kind=\"barh\", figsize=(6,12))"
   ]
  },
  {
   "cell_type": "code",
   "execution_count": 86,
   "metadata": {},
   "outputs": [
    {
     "data": {
      "text/plain": [
       "{'bagging_fraction': 0.85,\n",
       " 'bagging_freq': 40,\n",
       " 'boosting_type': 'gbdt',\n",
       " 'learning_rate': 0.0021,\n",
       " 'max_bin': 255,\n",
       " 'metric': 'l1',\n",
       " 'min_data': 500,\n",
       " 'min_hessian': 0.05,\n",
       " 'num_leaves': 512,\n",
       " 'objective': 'regression',\n",
       " 'sub_feature': 0.5,\n",
       " 'verbose': 2}"
      ]
     },
     "execution_count": 86,
     "metadata": {},
     "output_type": "execute_result"
    }
   ],
   "source": [
    "params"
   ]
  },
  {
   "cell_type": "markdown",
   "metadata": {},
   "source": [
    "### Cross-validation to compute out-of-sample accuracy"
   ]
  },
  {
   "cell_type": "code",
   "execution_count": 76,
   "metadata": {},
   "outputs": [
    {
     "name": "stdout",
     "output_type": "stream",
     "text": [
      "[100]\tcv_agg's l1: 0.0682448 + 0.000629516\n",
      "[200]\tcv_agg's l1: 0.0681095 + 0.000629917\n",
      "[300]\tcv_agg's l1: 0.0680249 + 0.000626366\n",
      "[400]\tcv_agg's l1: 0.0679738 + 0.000625898\n",
      "[500]\tcv_agg's l1: 0.0679423 + 0.000621672\n",
      "('Current parameters:\\n', {'num_leaves': 512, 'sub_feature': 0.5, 'min_hessian': 0.05, 'verbose': 2, 'bagging_freq': 40, 'learning_rate': 0.0021, 'min_data': 500, 'max_bin': 255, 'objective': 'regression', 'bagging_fraction': 0.85, 'metric': 'l1', 'boosting_type': 'gbdt'})\n",
      "('\\nBest num_boost_round:', 500)\n",
      "('Best CV score:', 0.067942328800631807)\n"
     ]
    }
   ],
   "source": [
    "N_FOLDS = 5\n",
    "\n",
    "cv_results = lgb.cv(params, d_train, num_boost_round=500, nfold=N_FOLDS, \n",
    "                    verbose_eval=100, early_stopping_rounds=40)\n",
    "print('Current parameters:\\n', params)\n",
    "print('\\nBest num_boost_round:', len(cv_results['l1-mean']))\n",
    "print('Best CV score:', cv_results['l1-mean'][-1])"
   ]
  },
  {
   "cell_type": "code",
   "execution_count": 79,
   "metadata": {},
   "outputs": [
    {
     "data": {
      "text/plain": [
       "[u'l1-mean', u'l1-stdv']"
      ]
     },
     "execution_count": 79,
     "metadata": {},
     "output_type": "execute_result"
    }
   ],
   "source": [
    "cv_results.keys()"
   ]
  },
  {
   "cell_type": "code",
   "execution_count": 77,
   "metadata": {},
   "outputs": [],
   "source": [
    "cv_score = cv_results['l1-mean'][-1]"
   ]
  },
  {
   "cell_type": "markdown",
   "metadata": {},
   "source": [
    "### Predict on test data and format for submission"
   ]
  },
  {
   "cell_type": "code",
   "execution_count": 58,
   "metadata": {},
   "outputs": [
    {
     "name": "stdout",
     "output_type": "stream",
     "text": [
      "\n",
      "Start LightGBM prediction ...\n",
      "Making predictions for 201612 (index 91, column name transactionmonth_Dec)\n",
      "Making predictions for 201610 (index 99, column name transactionmonth_Oct)\n",
      "Making predictions for 201611 (index 98, column name transactionmonth_Nov)\n",
      "Making predictions for 201712 (index 91, column name transactionmonth_Dec)\n",
      "Making predictions for 201711 (index 98, column name transactionmonth_Nov)\n",
      "Making predictions for 201710 (index 99, column name transactionmonth_Oct)\n"
     ]
    }
   ],
   "source": [
    "print(\"\\nStart LightGBM prediction ...\")\n",
    "# num_threads > 1 will predict very slow in kernal\n",
    "clf.reset_parameter({\"num_threads\":8})\n",
    "\n",
    "# the only difference in the submission columns is the value of the month for which the prediction is being made\n",
    "# so let's set the value of the respective dummy column to 1\n",
    "\n",
    "submission = {}\n",
    "x = X_test.copy()\n",
    "for cp,cs in smpl_cols.iteritems():\n",
    "    i = feature_names.index(cs)\n",
    "    print \"Making predictions for %s (index %d, column name %s)\" % (cp, i, cs)\n",
    "    x[:,i] = 1\n",
    "    submission[cp] = clf.predict(x)\n",
    "    x[:,i] = 0\n",
    "\n",
    "submission = pd.DataFrame(submission)\n",
    "submission['ParcelId'] = test_df['parcelid']\n",
    "submission.set_index('ParcelId', inplace=True)"
   ]
  },
  {
   "cell_type": "code",
   "execution_count": 82,
   "metadata": {},
   "outputs": [],
   "source": [
    "cur_date = datetime.datetime.now()\n",
    "filename = cur_date.strftime(\"%y-%m-%d_%H:%M:%S\") + \"_%2.5f.csv\"%cv_score\n",
    "\n",
    "submission.to_csv(out_dir + \"/\" + filename)"
   ]
  },
  {
   "cell_type": "markdown",
   "metadata": {},
   "source": [
    "# Predict using XGBoost"
   ]
  },
  {
   "cell_type": "code",
   "execution_count": null,
   "metadata": {
    "collapsed": true
   },
   "outputs": [],
   "source": [
    "\n",
    "##### RUN XGBOOST\n",
    "\n",
    "print(\"\\nSetting up data for XGBoost ...\")\n",
    "# xgboost params\n",
    "xgb_params = {\n",
    "    'eta': 0.037,\n",
    "    'max_depth': 5,\n",
    "    'subsample': 0.80,\n",
    "    'objective': 'reg:linear',\n",
    "    'eval_metric': 'mae',\n",
    "    'lambda': 0.8,   \n",
    "    'alpha': 0.4, \n",
    "    'base_score': y_mean,\n",
    "    'silent': 1\n",
    "}\n",
    "# Enough with the ridiculously overfit parameters.\n",
    "# I'm going back to my version 20 instead of copying Jayaraman.\n",
    "# I want a num_boost_rounds that's chosen by my CV,\n",
    "# not one that's chosen by overfitting the public leaderboard.\n",
    "# (There may be underlying differences between the train and test data\n",
    "#  that will affect some parameters, but they shouldn't affect that.)\n",
    "\n",
    "dtrain = xgb.DMatrix(x_train, y_train)\n",
    "dtest = xgb.DMatrix(x_test)\n",
    "\n",
    "# cross-validation\n",
    "#print( \"Running XGBoost CV ...\" )\n",
    "#cv_result = xgb.cv(xgb_params, \n",
    "#                   dtrain, \n",
    "#                   nfold=5,\n",
    "#                   num_boost_round=350,\n",
    "#                   early_stopping_rounds=50,\n",
    "#                   verbose_eval=10, \n",
    "#                   show_stdv=False\n",
    "#                  )\n",
    "#num_boost_rounds = len(cv_result)\n",
    "\n",
    "# num_boost_rounds = 150\n",
    "num_boost_rounds = 242\n",
    "print(\"\\nXGBoost tuned with CV in:\")\n",
    "print(\"   https://www.kaggle.com/aharless/xgboost-without-outliers-tweak \")\n",
    "print(\"num_boost_rounds=\"+str(num_boost_rounds))\n",
    "\n",
    "# train model\n",
    "print( \"\\nTraining XGBoost ...\")\n",
    "model = xgb.train(dict(xgb_params, silent=1), dtrain, num_boost_round=num_boost_rounds)\n",
    "\n",
    "print( \"\\nPredicting with XGBoost ...\")\n",
    "xgb_pred = model.predict(dtest)\n",
    "\n",
    "print( \"\\nXGBoost predictions:\" )\n",
    "print( pd.DataFrame(xgb_pred).head() )\n",
    "\n",
    "\n",
    "\n",
    "##### COMBINE PREDICTIONS\n",
    "\n",
    "print( \"\\nCombining XGBoost and LightGBM predicitons ...\" )\n",
    "xgb_weight = 1 - lgb_weight\n",
    "pred = xgb_weight*xgb_pred + lgb_weight*p_test\n",
    "\n",
    "print( \"\\nCombined predictions:\" )\n",
    "print( pd.DataFrame(pred).head() )\n",
    "\n",
    "\n",
    "\n",
    "##### WRITE THE RESULTS\n",
    "\n",
    "print( \"\\nPreparing results for write ...\" )\n",
    "y_pred=[]\n",
    "\n",
    "for i,predict in enumerate(pred):\n",
    "    y_pred.append(str(round(predict,4)))\n",
    "y_pred=np.array(y_pred)\n",
    "\n",
    "output = pd.DataFrame({'ParcelId': properties['parcelid'].astype(np.int32),\n",
    "        '201610': y_pred, '201611': y_pred, '201612': y_pred,\n",
    "        '201710': y_pred, '201711': y_pred, '201712': y_pred})\n",
    "# set col 'ParceID' to first col\n",
    "cols = output.columns.tolist()\n",
    "cols = cols[-1:] + cols[:-1]\n",
    "output = output[cols]\n",
    "from datetime import datetime\n",
    "\n",
    "print( \"\\nWriting results to disk ...\" )\n",
    "output.to_csv('sub{}.csv'.format(datetime.now().strftime('%Y%m%d_%H%M%S')), index=False)\n",
    "\n",
    "print( \"\\nFinished ...\" )"
   ]
  }
 ],
 "metadata": {
  "kernelspec": {
   "display_name": "Python 2",
   "language": "python",
   "name": "python2"
  },
  "language_info": {
   "codemirror_mode": {
    "name": "ipython",
    "version": 2
   },
   "file_extension": ".py",
   "mimetype": "text/x-python",
   "name": "python",
   "nbconvert_exporter": "python",
   "pygments_lexer": "ipython2",
   "version": "2.7.12"
  }
 },
 "nbformat": 4,
 "nbformat_minor": 2
}
