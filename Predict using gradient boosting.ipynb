{
 "cells": [
  {
   "cell_type": "code",
   "execution_count": 40,
   "metadata": {},
   "outputs": [],
   "source": [
    "import pandas as pd\n",
    "import numpy as np\n",
    "\n",
    "import gzip\n",
    "import cPickle as pickle\n",
    "import glob\n",
    "\n",
    "import xgboost as xgb\n",
    "from sklearn.preprocessing import LabelEncoder\n",
    "import lightgbm as lgb\n",
    "import sklearn\n",
    "from sklearn.preprocessing import normalize, StandardScaler\n",
    "\n",
    "import calendar\n",
    "import datetime, time\n",
    "\n",
    "import gc\n",
    "import os\n",
    "\n",
    "import matplotlib\n",
    "import matplotlib.pyplot as plt\n",
    "% matplotlib inline"
   ]
  },
  {
   "cell_type": "code",
   "execution_count": 2,
   "metadata": {
    "collapsed": true
   },
   "outputs": [],
   "source": [
    "in_dir = \"/home/data/kaggle-zillow/processed/\"\n",
    "\n",
    "out_dir = \"/home/data/kaggle-zillow/submissions/\"\n",
    "\n",
    "if not os.path.exists(out_dir):\n",
    "    os.makedirs(out_dir)"
   ]
  },
  {
   "cell_type": "markdown",
   "metadata": {},
   "source": [
    "# Load formatted data"
   ]
  },
  {
   "cell_type": "code",
   "execution_count": 23,
   "metadata": {},
   "outputs": [
    {
     "name": "stdout",
     "output_type": "stream",
     "text": [
      "(89372, 48)\n"
     ]
    }
   ],
   "source": [
    "# training data\n",
    "\n",
    "with gzip.open(in_dir + \"/train_formatted.pickle.gz\", \"r\") as f:\n",
    "    train_data = pickle.load(f)\n",
    "    \n",
    "X_train, y_train, X_eval, y_eval = \\\n",
    "    train_data['X_train'], train_data['y_train'], train_data['X_test'], train_data['y_test']\n",
    "\n",
    "features, categ_vars = \\\n",
    "    train_data['features'], train_data['categ_vars']\n",
    "\n",
    "print X_train.shape"
   ]
  },
  {
   "cell_type": "code",
   "execution_count": 24,
   "metadata": {
    "collapsed": true
   },
   "outputs": [],
   "source": [
    "ulimit = np.percentile(y_train, 99)\n",
    "llimit = np.percentile(y_train, 1)\n",
    "idx = (y_train > llimit) & (y_train < ulimit)\n",
    "X_train = X_train[idx,:]\n",
    "y_train = y_train[idx]\n",
    "\n",
    "X_train.shape, X_test.shape"
   ]
  },
  {
   "cell_type": "code",
   "execution_count": 25,
   "metadata": {
    "collapsed": true
   },
   "outputs": [],
   "source": [
    "# test data\n",
    "\n",
    "test_df = pd.read_csv(in_dir + \"/sample_formatted.csv\")\n",
    "test_df.insert(test_df.shape[1], 'transactionmonth', 0)\n",
    "X_test = test_df[features].values"
   ]
  },
  {
   "cell_type": "markdown",
   "metadata": {},
   "source": [
    "# LGB model"
   ]
  },
  {
   "cell_type": "markdown",
   "metadata": {},
   "source": [
    "### Train model"
   ]
  },
  {
   "cell_type": "code",
   "execution_count": 27,
   "metadata": {
    "collapsed": true
   },
   "outputs": [],
   "source": [
    "# apparently light GBM wants categorical features as integers\n",
    "    \n",
    "X_train_lgb = X_train.copy()\n",
    "X_test_lgb = X_test.copy()\n",
    "X_eval_lgb = X_eval.copy()\n",
    "    \n",
    "for c in categ_vars:\n",
    "    X_train_lgb[:,features.index(c)] = X_train[:,features.index(c)].astype(int)    \n",
    "    X_test_lgb[:,features.index(c)] = X_test[:,features.index(c)].astype(int)\n",
    "    X_eval_lgb[:,features.index(c)] = X_eval_lgb[:,features.index(c)].astype(int)"
   ]
  },
  {
   "cell_type": "code",
   "execution_count": 59,
   "metadata": {
    "scrolled": false
   },
   "outputs": [],
   "source": [
    "d_train = lgb.Dataset(X_train_lgb, label=y_train, free_raw_data=False)\n",
    "d_eval  = lgb.Dataset(X_eval_lgb, label=y_eval)\n",
    "\n",
    "params = {}\n",
    "params['max_bin'] = 20\n",
    "params['learning_rate'] = 0.015 # shrinkage_rate\n",
    "params['boosting_type'] = 'gbdt'\n",
    "params['objective'] = 'regression'\n",
    "params['metric'] = 'l1'          # or 'mae'\n",
    "params['sub_feature'] = 0.5      # feature_fraction -- OK, back to .5, but maybe later increase this\n",
    "params['bagging_fraction'] = 0.7 # sub_row\n",
    "params['bagging_freq'] = 40\n",
    "params['num_leaves'] = 512        # num_leaf\n",
    "params['min_data'] = 500         # min_data_in_leaf\n",
    "params['min_hessian'] = 0.05     # min_sum_hessian_in_leaf\n",
    "params['verbose'] = 1"
   ]
  },
  {
   "cell_type": "code",
   "execution_count": null,
   "metadata": {},
   "outputs": [
    {
     "name": "stdout",
     "output_type": "stream",
     "text": [
      "[1]\tcv_agg's l1: 0.0532205 + 0.000337101\n",
      "[2]\tcv_agg's l1: 0.0532077 + 0.000336835\n",
      "[3]\tcv_agg's l1: 0.053198 + 0.000336332\n",
      "[4]\tcv_agg's l1: 0.0531847 + 0.000336204\n",
      "[5]\tcv_agg's l1: 0.0531729 + 0.000335421\n",
      "[6]\tcv_agg's l1: 0.0531635 + 0.000335439\n",
      "[7]\tcv_agg's l1: 0.0531532 + 0.000335425\n",
      "[8]\tcv_agg's l1: 0.0531381 + 0.000335231\n",
      "[9]\tcv_agg's l1: 0.0531289 + 0.000335072\n",
      "[10]\tcv_agg's l1: 0.0531187 + 0.000334345\n",
      "[11]\tcv_agg's l1: 0.0531084 + 0.000335066\n",
      "[12]\tcv_agg's l1: 0.0530992 + 0.000334147\n",
      "[13]\tcv_agg's l1: 0.0530866 + 0.000333508\n",
      "[14]\tcv_agg's l1: 0.0530788 + 0.000333694\n",
      "[15]\tcv_agg's l1: 0.053067 + 0.000333778\n",
      "[16]\tcv_agg's l1: 0.0530585 + 0.000333126\n",
      "[17]\tcv_agg's l1: 0.0530524 + 0.000332338\n",
      "[18]\tcv_agg's l1: 0.0530444 + 0.000331885\n",
      "[19]\tcv_agg's l1: 0.0530367 + 0.000331615\n",
      "[20]\tcv_agg's l1: 0.0530265 + 0.000331117\n",
      "[21]\tcv_agg's l1: 0.0530187 + 0.000331419\n",
      "[22]\tcv_agg's l1: 0.05301 + 0.000331604\n",
      "[23]\tcv_agg's l1: 0.0530001 + 0.000331651\n",
      "[24]\tcv_agg's l1: 0.0529929 + 0.000330396\n",
      "[25]\tcv_agg's l1: 0.0529826 + 0.000329788\n",
      "[26]\tcv_agg's l1: 0.0529714 + 0.000329421\n",
      "[27]\tcv_agg's l1: 0.0529638 + 0.000329351\n",
      "[28]\tcv_agg's l1: 0.0529578 + 0.000329533\n",
      "[29]\tcv_agg's l1: 0.0529496 + 0.000329082\n",
      "[30]\tcv_agg's l1: 0.0529413 + 0.00032867\n",
      "[31]\tcv_agg's l1: 0.0529309 + 0.000328983\n",
      "[32]\tcv_agg's l1: 0.0529253 + 0.000329074\n",
      "[33]\tcv_agg's l1: 0.0529204 + 0.000329091\n",
      "[34]\tcv_agg's l1: 0.0529148 + 0.000329508\n",
      "[35]\tcv_agg's l1: 0.0529061 + 0.000329477\n",
      "[36]\tcv_agg's l1: 0.0528986 + 0.000329116\n",
      "[37]\tcv_agg's l1: 0.0528922 + 0.000329087\n",
      "[38]\tcv_agg's l1: 0.0528869 + 0.000329015\n",
      "[39]\tcv_agg's l1: 0.052882 + 0.000329172\n",
      "[40]\tcv_agg's l1: 0.0528763 + 0.000329314\n",
      "[41]\tcv_agg's l1: 0.0528686 + 0.000328967\n",
      "[42]\tcv_agg's l1: 0.0528634 + 0.000327751\n",
      "[43]\tcv_agg's l1: 0.052857 + 0.000326989\n",
      "[44]\tcv_agg's l1: 0.0528509 + 0.000326356\n",
      "[45]\tcv_agg's l1: 0.0528475 + 0.000326209\n",
      "[46]\tcv_agg's l1: 0.0528399 + 0.000326374\n",
      "[47]\tcv_agg's l1: 0.0528325 + 0.000326134\n",
      "[48]\tcv_agg's l1: 0.0528265 + 0.000325631\n",
      "[49]\tcv_agg's l1: 0.052822 + 0.000325014\n",
      "[50]\tcv_agg's l1: 0.0528145 + 0.000325052\n",
      "[51]\tcv_agg's l1: 0.0528098 + 0.000324904\n",
      "[52]\tcv_agg's l1: 0.0528053 + 0.000324547\n",
      "[53]\tcv_agg's l1: 0.0528017 + 0.000324544\n",
      "[54]\tcv_agg's l1: 0.0527964 + 0.000323991\n",
      "[55]\tcv_agg's l1: 0.0527924 + 0.000324238\n",
      "[56]\tcv_agg's l1: 0.0527875 + 0.000323832\n",
      "[57]\tcv_agg's l1: 0.0527841 + 0.000324482\n",
      "[58]\tcv_agg's l1: 0.052781 + 0.000324219\n",
      "[59]\tcv_agg's l1: 0.052777 + 0.00032435\n",
      "[60]\tcv_agg's l1: 0.0527728 + 0.000324155\n",
      "[61]\tcv_agg's l1: 0.0527699 + 0.000324224\n",
      "[62]\tcv_agg's l1: 0.0527673 + 0.000323826\n",
      "[63]\tcv_agg's l1: 0.052762 + 0.000324286\n",
      "[64]\tcv_agg's l1: 0.0527592 + 0.000323445\n",
      "[65]\tcv_agg's l1: 0.0527545 + 0.000323413\n",
      "[66]\tcv_agg's l1: 0.0527504 + 0.0003233\n",
      "[67]\tcv_agg's l1: 0.0527454 + 0.000323289\n",
      "[68]\tcv_agg's l1: 0.0527423 + 0.00032292\n",
      "[69]\tcv_agg's l1: 0.0527395 + 0.000322571\n",
      "[70]\tcv_agg's l1: 0.0527359 + 0.000322242\n",
      "[71]\tcv_agg's l1: 0.0527337 + 0.000322031\n",
      "[72]\tcv_agg's l1: 0.0527311 + 0.000321511\n",
      "[73]\tcv_agg's l1: 0.0527267 + 0.000321404\n",
      "[74]\tcv_agg's l1: 0.0527242 + 0.00032053\n",
      "[75]\tcv_agg's l1: 0.0527202 + 0.0003198\n",
      "[76]\tcv_agg's l1: 0.0527157 + 0.000319595\n",
      "[77]\tcv_agg's l1: 0.0527109 + 0.000319609\n",
      "[78]\tcv_agg's l1: 0.0527078 + 0.000319004\n",
      "[79]\tcv_agg's l1: 0.0527064 + 0.000318518\n",
      "[80]\tcv_agg's l1: 0.0527037 + 0.000318975\n",
      "[81]\tcv_agg's l1: 0.0527012 + 0.000318926\n",
      "[82]\tcv_agg's l1: 0.0526973 + 0.00031959\n",
      "[83]\tcv_agg's l1: 0.0526937 + 0.000320356\n",
      "[84]\tcv_agg's l1: 0.052691 + 0.000320777\n",
      "[85]\tcv_agg's l1: 0.0526873 + 0.000320635\n",
      "[86]\tcv_agg's l1: 0.0526844 + 0.000321298\n",
      "[87]\tcv_agg's l1: 0.0526822 + 0.000322077\n",
      "[88]\tcv_agg's l1: 0.0526798 + 0.00032256\n",
      "[89]\tcv_agg's l1: 0.052676 + 0.000321727\n",
      "[90]\tcv_agg's l1: 0.0526744 + 0.000322032\n",
      "[91]\tcv_agg's l1: 0.0526722 + 0.000321835\n",
      "[92]\tcv_agg's l1: 0.0526685 + 0.000322335\n",
      "[93]\tcv_agg's l1: 0.0526668 + 0.000322321\n",
      "[94]\tcv_agg's l1: 0.0526647 + 0.00032186\n",
      "[95]\tcv_agg's l1: 0.0526607 + 0.000321803\n",
      "[96]\tcv_agg's l1: 0.0526587 + 0.000322214\n",
      "[97]\tcv_agg's l1: 0.052656 + 0.000322658\n",
      "[98]\tcv_agg's l1: 0.0526529 + 0.000323124\n",
      "[99]\tcv_agg's l1: 0.0526494 + 0.000323317\n",
      "[100]\tcv_agg's l1: 0.0526475 + 0.000323192\n",
      "[101]\tcv_agg's l1: 0.0526455 + 0.000323207\n",
      "[102]\tcv_agg's l1: 0.0526424 + 0.000323867\n",
      "[103]\tcv_agg's l1: 0.0526395 + 0.000323971\n",
      "[104]\tcv_agg's l1: 0.052638 + 0.000323672\n",
      "[105]\tcv_agg's l1: 0.0526368 + 0.000323886\n",
      "[106]\tcv_agg's l1: 0.0526352 + 0.000324214\n",
      "[107]\tcv_agg's l1: 0.0526334 + 0.000324296\n",
      "[108]\tcv_agg's l1: 0.0526309 + 0.000324647\n",
      "[109]\tcv_agg's l1: 0.0526283 + 0.000324369\n",
      "[110]\tcv_agg's l1: 0.0526276 + 0.000324597\n",
      "[111]\tcv_agg's l1: 0.0526254 + 0.00032442\n",
      "[112]\tcv_agg's l1: 0.0526232 + 0.000324318\n",
      "[113]\tcv_agg's l1: 0.0526209 + 0.000324392\n",
      "[114]\tcv_agg's l1: 0.0526207 + 0.000324321\n",
      "[115]\tcv_agg's l1: 0.05262 + 0.000324002\n",
      "[116]\tcv_agg's l1: 0.0526186 + 0.000324087\n",
      "[117]\tcv_agg's l1: 0.0526178 + 0.00032417\n",
      "[118]\tcv_agg's l1: 0.0526149 + 0.000324569\n",
      "[119]\tcv_agg's l1: 0.0526128 + 0.000324528\n",
      "[120]\tcv_agg's l1: 0.0526122 + 0.000324154\n",
      "[121]\tcv_agg's l1: 0.0526098 + 0.000324325\n",
      "[122]\tcv_agg's l1: 0.0526095 + 0.000324064\n",
      "[123]\tcv_agg's l1: 0.0526077 + 0.000324301\n",
      "[124]\tcv_agg's l1: 0.0526058 + 0.000323631\n",
      "[125]\tcv_agg's l1: 0.0526036 + 0.000322811\n",
      "[126]\tcv_agg's l1: 0.0526023 + 0.000322547\n",
      "[127]\tcv_agg's l1: 0.052601 + 0.000323105\n",
      "[128]\tcv_agg's l1: 0.0525998 + 0.000322834\n",
      "[129]\tcv_agg's l1: 0.0525976 + 0.000322243\n",
      "[130]\tcv_agg's l1: 0.0525965 + 0.000322307\n",
      "[131]\tcv_agg's l1: 0.0525955 + 0.000322503\n",
      "[132]\tcv_agg's l1: 0.0525941 + 0.000322074\n",
      "[133]\tcv_agg's l1: 0.0525912 + 0.000321274\n",
      "[134]\tcv_agg's l1: 0.0525889 + 0.000320213\n",
      "[135]\tcv_agg's l1: 0.0525855 + 0.000320045\n",
      "[136]\tcv_agg's l1: 0.0525839 + 0.000319997\n",
      "[137]\tcv_agg's l1: 0.052583 + 0.000319484\n",
      "[138]\tcv_agg's l1: 0.0525823 + 0.000318735\n",
      "[139]\tcv_agg's l1: 0.0525817 + 0.000318541\n",
      "[140]\tcv_agg's l1: 0.0525809 + 0.000317886\n",
      "[141]\tcv_agg's l1: 0.0525793 + 0.000316992\n",
      "[142]\tcv_agg's l1: 0.0525783 + 0.000317459\n",
      "[143]\tcv_agg's l1: 0.0525773 + 0.000317247\n",
      "[144]\tcv_agg's l1: 0.0525752 + 0.000316961\n",
      "[145]\tcv_agg's l1: 0.052572 + 0.000316107\n",
      "[146]\tcv_agg's l1: 0.0525707 + 0.000316325\n",
      "[147]\tcv_agg's l1: 0.0525703 + 0.000316577\n",
      "[148]\tcv_agg's l1: 0.05257 + 0.00031674\n",
      "[149]\tcv_agg's l1: 0.0525695 + 0.000317149\n",
      "[150]\tcv_agg's l1: 0.0525676 + 0.000316603\n",
      "[151]\tcv_agg's l1: 0.0525668 + 0.00031623\n",
      "[152]\tcv_agg's l1: 0.0525646 + 0.000315388\n",
      "[153]\tcv_agg's l1: 0.0525647 + 0.000315541\n",
      "[154]\tcv_agg's l1: 0.0525631 + 0.000314824\n",
      "[155]\tcv_agg's l1: 0.0525625 + 0.000315127\n",
      "[156]\tcv_agg's l1: 0.0525611 + 0.000314862\n",
      "[157]\tcv_agg's l1: 0.0525603 + 0.000314281\n",
      "[158]\tcv_agg's l1: 0.0525601 + 0.000314492\n",
      "[159]\tcv_agg's l1: 0.052559 + 0.000314444\n",
      "[160]\tcv_agg's l1: 0.0525589 + 0.00031412\n",
      "[161]\tcv_agg's l1: 0.052557 + 0.00031374\n",
      "[162]\tcv_agg's l1: 0.0525546 + 0.000313271\n",
      "[163]\tcv_agg's l1: 0.0525534 + 0.000312654\n",
      "[164]\tcv_agg's l1: 0.052554 + 0.000313309\n",
      "[165]\tcv_agg's l1: 0.0525533 + 0.000313579\n",
      "[166]\tcv_agg's l1: 0.0525525 + 0.000313779\n",
      "[167]\tcv_agg's l1: 0.0525507 + 0.000313916\n",
      "[168]\tcv_agg's l1: 0.0525487 + 0.000314416\n",
      "[169]\tcv_agg's l1: 0.0525482 + 0.00031447\n",
      "[170]\tcv_agg's l1: 0.0525474 + 0.000315048\n",
      "[171]\tcv_agg's l1: 0.0525466 + 0.000315953\n",
      "[172]\tcv_agg's l1: 0.0525446 + 0.000314868\n",
      "[173]\tcv_agg's l1: 0.0525436 + 0.000314856\n",
      "[174]\tcv_agg's l1: 0.052543 + 0.000314445\n",
      "[175]\tcv_agg's l1: 0.0525427 + 0.000314226\n",
      "[176]\tcv_agg's l1: 0.0525413 + 0.000314415\n",
      "[177]\tcv_agg's l1: 0.0525411 + 0.000314418\n",
      "[178]\tcv_agg's l1: 0.0525396 + 0.000314306\n",
      "[179]\tcv_agg's l1: 0.0525378 + 0.000314145\n",
      "[180]\tcv_agg's l1: 0.052536 + 0.000314207\n",
      "[181]\tcv_agg's l1: 0.0525352 + 0.000313517\n",
      "[182]\tcv_agg's l1: 0.052534 + 0.000313757\n",
      "[183]\tcv_agg's l1: 0.0525338 + 0.00031353\n",
      "[184]\tcv_agg's l1: 0.0525325 + 0.000313908\n",
      "[185]\tcv_agg's l1: 0.0525311 + 0.00031387\n",
      "[186]\tcv_agg's l1: 0.0525304 + 0.000313934\n",
      "[187]\tcv_agg's l1: 0.0525295 + 0.000314594\n",
      "[188]\tcv_agg's l1: 0.052529 + 0.000314555\n",
      "[189]\tcv_agg's l1: 0.0525277 + 0.000314216\n",
      "[190]\tcv_agg's l1: 0.0525274 + 0.000314214\n",
      "[191]\tcv_agg's l1: 0.052527 + 0.000313508\n",
      "[192]\tcv_agg's l1: 0.0525264 + 0.00031324\n",
      "[193]\tcv_agg's l1: 0.0525255 + 0.000312906\n",
      "[194]\tcv_agg's l1: 0.0525246 + 0.000312685\n",
      "[195]\tcv_agg's l1: 0.0525239 + 0.000312952\n"
     ]
    },
    {
     "name": "stdout",
     "output_type": "stream",
     "text": [
      "[196]\tcv_agg's l1: 0.0525234 + 0.000313577\n",
      "[197]\tcv_agg's l1: 0.0525219 + 0.000313101\n",
      "[198]\tcv_agg's l1: 0.0525211 + 0.000312835\n",
      "[199]\tcv_agg's l1: 0.0525202 + 0.000313784\n",
      "[200]\tcv_agg's l1: 0.0525205 + 0.000313593\n",
      "[201]\tcv_agg's l1: 0.0525195 + 0.000313376\n"
     ]
    }
   ],
   "source": [
    "N_FOLDS = 5\n",
    "\n",
    "cv_results = lgb.cv(params, d_train, num_boost_round=500, nfold=N_FOLDS, \n",
    "                    verbose_eval=1, early_stopping_rounds=40)\n",
    "print('Current parameters:\\n', params)\n",
    "print('\\nBest num_boost_round:', len(cv_results['l1-mean']))\n",
    "print('Best CV score:', cv_results['l1-mean'][-1])"
   ]
  },
  {
   "cell_type": "code",
   "execution_count": 52,
   "metadata": {
    "collapsed": true
   },
   "outputs": [],
   "source": [
    "best_score = cv_results['l1-mean'][-1]\n",
    "# best_score = clf.best_score['valid_0']['l1']"
   ]
  },
  {
   "cell_type": "code",
   "execution_count": 41,
   "metadata": {},
   "outputs": [
    {
     "data": {
      "text/plain": [
       "[<matplotlib.lines.Line2D at 0x7f9088e47090>]"
      ]
     },
     "execution_count": 41,
     "metadata": {},
     "output_type": "execute_result"
    },
    {
     "data": {
      "image/png": "[encoded data removed]",
      "text/plain": [
       "<matplotlib.figure.Figure at 0x7f9084bbf1d0>"
      ]
     },
     "metadata": {},
     "output_type": "display_data"
    }
   ],
   "source": [
    "plt.plot(cv_results['l1-mean'])"
   ]
  },
  {
   "cell_type": "code",
   "execution_count": 42,
   "metadata": {},
   "outputs": [
    {
     "name": "stdout",
     "output_type": "stream",
     "text": [
      "\n",
      "Fitting LightGBM model ...\n"
     ]
    }
   ],
   "source": [
    "print(\"\\nFitting LightGBM model ...\")\n",
    "\n",
    "clf = lgb.train(params, d_train,\n",
    "                num_boost_round=151,\n",
    "                # valid_sets=d_eval,\n",
    "                feature_name=features,\n",
    "                categorical_feature=categ_vars) #early_stopping_rounds=40)\n"
   ]
  },
  {
   "cell_type": "code",
   "execution_count": 43,
   "metadata": {},
   "outputs": [
    {
     "data": {
      "text/plain": [
       "<matplotlib.axes._subplots.AxesSubplot at 0x7f9088d60f50>"
      ]
     },
     "execution_count": 43,
     "metadata": {},
     "output_type": "execute_result"
    },
    {
     "data": {
      "image/png": "[encoded data removed]",
      "text/plain": [
       "<matplotlib.figure.Figure at 0x7f9089736f50>"
      ]
     },
     "metadata": {},
     "output_type": "display_data"
    }
   ],
   "source": [
    "feature_importance = pd.Series(dict(zip(clf.feature_name(), clf.feature_importance())))\n",
    "feature_importance = feature_importance / float(feature_importance.max())\n",
    "\n",
    "feature_importance.sort_values(inplace=True)\n",
    "feature_importance[feature_importance>0].plot(kind=\"barh\", figsize=(6,12))"
   ]
  },
  {
   "cell_type": "code",
   "execution_count": 53,
   "metadata": {},
   "outputs": [
    {
     "name": "stdout",
     "output_type": "stream",
     "text": [
      "Saving best model (score : 0.05252)\n",
      "/home/data/kaggle-zillow/submissions//model_0.05252.txt\n"
     ]
    }
   ],
   "source": [
    "model_file = out_dir + '/model_%2.5f.txt'% best_score\n",
    "\n",
    "print \"Saving best model (score : %2.5f)\" % best_score\n",
    "print model_file\n",
    "\n",
    "clf.save_model(model_file, num_iteration=clf.best_iteration)"
   ]
  },
  {
   "cell_type": "markdown",
   "metadata": {},
   "source": [
    "### Cross-validation to compute out-of-sample accuracy"
   ]
  },
  {
   "cell_type": "markdown",
   "metadata": {},
   "source": [
    "### Predict on test data and format for submission"
   ]
  },
  {
   "cell_type": "code",
   "execution_count": 54,
   "metadata": {
    "collapsed": true
   },
   "outputs": [],
   "source": [
    "model_files = glob.glob(out_dir + \"model_*.txt\")\n",
    "model_files = {f:float(os.path.basename(f).replace(\"model_\",\"\").replace(\".txt\",\"\")) for f in model_files}\n"
   ]
  },
  {
   "cell_type": "code",
   "execution_count": 55,
   "metadata": {},
   "outputs": [
    {
     "data": {
      "text/plain": [
       "'/home/data/kaggle-zillow/submissions/model_0.05252.txt'"
      ]
     },
     "execution_count": 55,
     "metadata": {},
     "output_type": "execute_result"
    }
   ],
   "source": [
    "idx = model_files.values().index(min(model_files.values()))\n",
    "best_model_file = model_files.keys()[idx]\n",
    "best_score = model_files[best_model_file]\n",
    "best_model_file"
   ]
  },
  {
   "cell_type": "code",
   "execution_count": 57,
   "metadata": {},
   "outputs": [
    {
     "name": "stdout",
     "output_type": "stream",
     "text": [
      "\n",
      "Start LightGBM prediction ...\n",
      "Making predictions for 201610\n",
      "Making predictions for 201611\n",
      "Making predictions for 201612\n",
      "Making predictions for 201710\n",
      "Making predictions for 201711\n",
      "Making predictions for 201712\n"
     ]
    }
   ],
   "source": [
    "print(\"\\nStart LightGBM prediction ...\")\n",
    "# num_threads > 1 will predict very slow in kernal\n",
    "\n",
    "bst = lgb.Booster(model_file=best_model_file) #init model\n",
    "\n",
    "# bst.reset_parameter({\"num_threads\":8})\n",
    "\n",
    "# the only difference in the submission columns is the value of the month for which the prediction is being made\n",
    "# so let's set the value of the respective dummy column to 1\n",
    "\n",
    "smpl_cols = [\"201610\", \"201611\", \"201612\", \"201710\", \"201711\", \"201712\"]\n",
    "\n",
    "submission = {}\n",
    "x = X_test.copy()\n",
    "for c in smpl_cols:\n",
    "    i = int(c[-2:])\n",
    "    print \"Making predictions for %s\" % (c)\n",
    "    x[:,features.index(\"transactionmonth\")] = i\n",
    "    submission[c] = bst.predict(x)\n",
    "\n",
    "submission = pd.DataFrame(submission)\n",
    "submission['ParcelId'] = test_df['parcelid']\n",
    "submission.set_index('ParcelId', inplace=True)"
   ]
  },
  {
   "cell_type": "code",
   "execution_count": 58,
   "metadata": {
    "collapsed": true
   },
   "outputs": [],
   "source": [
    "cur_date = datetime.datetime.now()\n",
    "filename = cur_date.strftime(\"%y-%m-%d_%H:%M:%S\") + \"_%2.5f.csv\"%best_score\n",
    "\n",
    "submission.to_csv(out_dir + \"/\" + filename)"
   ]
  }
 ],
 "metadata": {
  "kernelspec": {
   "display_name": "Python 2",
   "language": "python",
   "name": "python2"
  },
  "language_info": {
   "codemirror_mode": {
    "name": "ipython",
    "version": 2
   },
   "file_extension": ".py",
   "mimetype": "text/x-python",
   "name": "python",
   "nbconvert_exporter": "python",
   "pygments_lexer": "ipython2",
   "version": "2.7.12"
  }
 },
 "nbformat": 4,
 "nbformat_minor": 2
}
