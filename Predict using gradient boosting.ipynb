{
 "cells": [
  {
   "cell_type": "code",
   "execution_count": 1,
   "metadata": {
    "collapsed": true
   },
   "outputs": [],
   "source": [
    "import pandas as pd\n",
    "import numpy as np\n",
    "\n",
    "import gzip\n",
    "import cPickle as pickle\n",
    "import glob\n",
    "\n",
    "from sklearn.preprocessing import LabelEncoder\n",
    "import lightgbm as lgb\n",
    "import sklearn\n",
    "from sklearn.preprocessing import normalize, StandardScaler\n",
    "\n",
    "import calendar\n",
    "import datetime, time\n",
    "\n",
    "import gc\n",
    "import os\n",
    "\n",
    "import matplotlib\n",
    "import matplotlib.pyplot as plt\n",
    "% matplotlib inline"
   ]
  },
  {
   "cell_type": "code",
   "execution_count": 3,
   "metadata": {
    "collapsed": true
   },
   "outputs": [],
   "source": [
    "in_dir = \"/home/data/kaggle-zillow/processed/\"\n",
    "\n",
    "out_dir = \"/home/data/kaggle-zillow/submissions/\"\n",
    "\n",
    "if not os.path.exists(out_dir):\n",
    "    os.makedirs(out_dir)"
   ]
  },
  {
   "cell_type": "markdown",
   "metadata": {},
   "source": [
    "# Load formatted data"
   ]
  },
  {
   "cell_type": "code",
   "execution_count": 104,
   "metadata": {},
   "outputs": [
    {
     "name": "stdout",
     "output_type": "stream",
     "text": [
      "(89372, 48)\n"
     ]
    }
   ],
   "source": [
    "# training data\n",
    "\n",
    "with gzip.open(in_dir + \"/train_formatted.pickle.gz\", \"r\") as f:\n",
    "    train_data = pickle.load(f)\n",
    "    \n",
    "X_train, y_train, X_eval, y_eval = \\\n",
    "    train_data['X_train'], train_data['y_train'], train_data['X_test'], train_data['y_test']\n",
    "\n",
    "features, categ_vars = \\\n",
    "    train_data['features'], train_data['categ_vars']\n",
    "\n",
    "print X_train.shape"
   ]
  },
  {
   "cell_type": "code",
   "execution_count": 105,
   "metadata": {
    "collapsed": true
   },
   "outputs": [],
   "source": [
    "ulimit = np.percentile(y_train, 99)\n",
    "llimit = np.percentile(y_train, 1)\n",
    "idx = (y_train > llimit) & (y_train < ulimit)\n",
    "X_train = X_train[idx,:]\n",
    "y_train = y_train[idx]"
   ]
  },
  {
   "cell_type": "code",
   "execution_count": 106,
   "metadata": {
    "collapsed": true
   },
   "outputs": [],
   "source": [
    "# test data\n",
    "\n",
    "test_df = pd.read_csv(in_dir + \"/sample_formatted.csv\")\n",
    "test_df.insert(test_df.shape[1], 'transactionmonth', 0)\n",
    "X_test = test_df[features].values"
   ]
  },
  {
   "cell_type": "code",
   "execution_count": 107,
   "metadata": {},
   "outputs": [
    {
     "data": {
      "text/plain": [
       "((87582, 48), (2985217, 48))"
      ]
     },
     "execution_count": 107,
     "metadata": {},
     "output_type": "execute_result"
    }
   ],
   "source": [
    "X_train.shape, X_test.shape"
   ]
  },
  {
   "cell_type": "markdown",
   "metadata": {},
   "source": [
    "# LGB model"
   ]
  },
  {
   "cell_type": "markdown",
   "metadata": {},
   "source": [
    "### Train model"
   ]
  },
  {
   "cell_type": "code",
   "execution_count": 109,
   "metadata": {
    "collapsed": true
   },
   "outputs": [],
   "source": [
    "# apparently light GBM wants categorical features as integers\n",
    "    \n",
    "X_train_lgb = X_train.copy()\n",
    "X_test_lgb = X_test.copy()\n",
    "X_eval_lgb = X_eval.copy()\n",
    "    \n",
    "for c in categ_vars:\n",
    "    X_train_lgb[:,features.index(c)] = X_train[:,features.index(c)].astype(int)    \n",
    "    X_test_lgb[:,features.index(c)] = X_test[:,features.index(c)].astype(int)\n",
    "    X_eval_lgb[:,features.index(c)] = X_eval_lgb[:,features.index(c)].astype(int)"
   ]
  },
  {
   "cell_type": "code",
   "execution_count": 122,
   "metadata": {
    "collapsed": true,
    "scrolled": false
   },
   "outputs": [],
   "source": [
    "d_train = lgb.Dataset(X_train_lgb, label=y_train, free_raw_data=False)\n",
    "d_eval  = lgb.Dataset(X_eval_lgb, label=y_eval)\n",
    "\n",
    "params = {}\n",
    "params['max_bin'] = 200\n",
    "params['learning_rate'] = 0.02 # shrinkage_rate\n",
    "params['boosting_type'] = 'dart' # alternative: 'gbdt'\n",
    "params['objective'] = 'regression'\n",
    "params['metric'] = 'l1'          # or 'mae'\n",
    "params['lambda_l2'] = 1       # L2 regularization\n",
    "params['sub_feature'] = 0.6      # feature_fraction -- OK, back to .5, but maybe later increase this\n",
    "params['bagging_fraction'] = 0.8 # sub_row\n",
    "params['bagging_freq'] = 20\n",
    "params['num_leaves'] = 512        # num_leaf\n",
    "params['min_data'] = 200         # min_data_in_leaf\n",
    "params['min_hessian'] = 0.05     # min_sum_hessian_in_leaf\n",
    "params['verbose'] = 1\n",
    "\n",
    "# params['device'] = 'gpu'\n",
    "# params['gpu_platform_id'] = 0\n",
    "# params['gpu_device_id'] = 0\n",
    "\n",
    "\n",
    "# Use large max_bin (may be slower)\n",
    "# Use small learning_rate with large num_iterations\n",
    "# Use large num_leaves(may cause over-fitting)\n"
   ]
  },
  {
   "cell_type": "code",
   "execution_count": null,
   "metadata": {},
   "outputs": [
    {
     "name": "stdout",
     "output_type": "stream",
     "text": [
      "[10]\tcv_agg's l1: 0.0530473 + 0.000334911\n",
      "[20]\tcv_agg's l1: 0.0529232 + 0.000328836\n",
      "[30]\tcv_agg's l1: 0.0528248 + 0.000326715\n",
      "[40]\tcv_agg's l1: 0.0527673 + 0.000323101\n",
      "[50]\tcv_agg's l1: 0.0526818 + 0.000319855\n",
      "[60]\tcv_agg's l1: 0.0526021 + 0.000319616\n",
      "[70]\tcv_agg's l1: 0.0525562 + 0.000321024\n",
      "[80]\tcv_agg's l1: 0.0525349 + 0.000322041\n",
      "[90]\tcv_agg's l1: 0.052539 + 0.000324324\n",
      "[100]\tcv_agg's l1: 0.0525101 + 0.000322057\n",
      "[110]\tcv_agg's l1: 0.0525047 + 0.000323143\n",
      "[120]\tcv_agg's l1: 0.0524677 + 0.000321746\n",
      "[130]\tcv_agg's l1: 0.0524522 + 0.000322854\n",
      "[140]\tcv_agg's l1: 0.0524322 + 0.000322117\n",
      "[150]\tcv_agg's l1: 0.0524264 + 0.000321077\n",
      "[160]\tcv_agg's l1: 0.0524267 + 0.000321784\n",
      "[170]\tcv_agg's l1: 0.0524001 + 0.000318879\n",
      "[180]\tcv_agg's l1: 0.0523908 + 0.000319497\n",
      "[190]\tcv_agg's l1: 0.0523798 + 0.000318329\n",
      "[200]\tcv_agg's l1: 0.0523759 + 0.00031858\n",
      "[210]\tcv_agg's l1: 0.0523716 + 0.000321994\n"
     ]
    }
   ],
   "source": [
    "N_FOLDS = 5\n",
    "\n",
    "cv_results = lgb.cv(params, d_train, num_boost_round=1000, nfold=N_FOLDS, \n",
    "                    verbose_eval=10, early_stopping_rounds=40)\n",
    "print('Current parameters:\\n', params)\n",
    "print('\\nBest num_boost_round:', len(cv_results['l1-mean']))\n",
    "print('Best CV score:', cv_results['l1-mean'][-1])"
   ]
  },
  {
   "cell_type": "code",
   "execution_count": 135,
   "metadata": {},
   "outputs": [
    {
     "name": "stdout",
     "output_type": "stream",
     "text": [
      "0.0523681675507 245\n"
     ]
    }
   ],
   "source": [
    "best_score = cv_results['l1-mean'][-1]\n",
    "# best_score = clf.best_score['valid_0']['l1']\n",
    "\n",
    "print best_score, len(cv_results['l1-mean'])"
   ]
  },
  {
   "cell_type": "code",
   "execution_count": 136,
   "metadata": {},
   "outputs": [
    {
     "data": {
      "text/plain": [
       "[<matplotlib.lines.Line2D at 0x7f2ebd15b9d0>]"
      ]
     },
     "execution_count": 136,
     "metadata": {},
     "output_type": "execute_result"
    },
    {
     "data": {
      "image/png": "[encoded data removed]",
      "text/plain": [
       "<matplotlib.figure.Figure at 0x7f2ebcd308d0>"
      ]
     },
     "metadata": {},
     "output_type": "display_data"
    }
   ],
   "source": [
    "plt.plot(cv_results['l1-mean'])"
   ]
  },
  {
   "cell_type": "code",
   "execution_count": 137,
   "metadata": {},
   "outputs": [
    {
     "name": "stdout",
     "output_type": "stream",
     "text": [
      "\n",
      "Fitting LightGBM model ...\n",
      "# boosting rounds: 245\n"
     ]
    }
   ],
   "source": [
    "print(\"\\nFitting LightGBM model ...\")\n",
    "\n",
    "num_boost_rounds = len(cv_results['l1-mean'])\n",
    "print \"# boosting rounds:\", num_boost_rounds\n",
    "\n",
    "clf = lgb.train(params, d_train,\n",
    "                num_boost_round=num_boost_rounds,\n",
    "                # valid_sets=d_eval,\n",
    "                feature_name=features,\n",
    "                categorical_feature=categ_vars) #early_stopping_rounds=40)\n"
   ]
  },
  {
   "cell_type": "code",
   "execution_count": 138,
   "metadata": {},
   "outputs": [
    {
     "data": {
      "text/plain": [
       "<matplotlib.axes._subplots.AxesSubplot at 0x7f2ebcd086d0>"
      ]
     },
     "execution_count": 138,
     "metadata": {},
     "output_type": "execute_result"
    },
    {
     "data": {
      "image/png": "[encoded data removed]",
      "text/plain": [
       "<matplotlib.figure.Figure at 0x7f2ebcf92cd0>"
      ]
     },
     "metadata": {},
     "output_type": "display_data"
    }
   ],
   "source": [
    "feature_importance = pd.Series(dict(zip(clf.feature_name(), clf.feature_importance())))\n",
    "feature_importance = feature_importance / float(feature_importance.max())\n",
    "\n",
    "feature_importance.sort_values(inplace=True)\n",
    "feature_importance[feature_importance>0].plot(kind=\"barh\", figsize=(6,12))"
   ]
  },
  {
   "cell_type": "code",
   "execution_count": 159,
   "metadata": {},
   "outputs": [
    {
     "name": "stdout",
     "output_type": "stream",
     "text": [
      "Saving best model (score : 0.05237)\n",
      "/home/data/kaggle-zillow/submissions//model_0.05237.txt\n"
     ]
    }
   ],
   "source": [
    "model_file = out_dir + '/model_%2.5f.txt'% best_score\n",
    "\n",
    "print \"Saving best model (score : %2.5f)\" % best_score\n",
    "print model_file\n",
    "\n",
    "clf.save_model(model_file, num_iteration=clf.best_iteration)\n",
    "\n",
    "# also save feature importance\n",
    "pd.DataFrame(feature_importance).reset_index()\\\n",
    "    .rename(columns={\"index\":\"feature\", 0:\"importance\"})\\\n",
    "    .to_csv(out_dir + \"/feature_importance.csv\", header=[\"feature\", \"importance\"], index=False)"
   ]
  },
  {
   "cell_type": "markdown",
   "metadata": {},
   "source": [
    "### Predict on test data and format for submission"
   ]
  },
  {
   "cell_type": "code",
   "execution_count": 140,
   "metadata": {
    "collapsed": true
   },
   "outputs": [],
   "source": [
    "model_files = glob.glob(out_dir + \"model_*.txt\")\n",
    "model_files = {f:float(os.path.basename(f).replace(\"model_\",\"\").replace(\".txt\",\"\")) for f in model_files}\n"
   ]
  },
  {
   "cell_type": "code",
   "execution_count": 141,
   "metadata": {},
   "outputs": [
    {
     "data": {
      "text/plain": [
       "'/home/data/kaggle-zillow/submissions/model_0.05237.txt'"
      ]
     },
     "execution_count": 141,
     "metadata": {},
     "output_type": "execute_result"
    }
   ],
   "source": [
    "idx = model_files.values().index(min(model_files.values()))\n",
    "best_model_file = model_files.keys()[idx]\n",
    "best_score = model_files[best_model_file]\n",
    "best_model_file"
   ]
  },
  {
   "cell_type": "code",
   "execution_count": 142,
   "metadata": {},
   "outputs": [
    {
     "name": "stdout",
     "output_type": "stream",
     "text": [
      "\n",
      "Start LightGBM prediction ...\n",
      "Making predictions for 201610\n",
      "Making predictions for 201611\n",
      "Making predictions for 201612\n",
      "Making predictions for 201710\n",
      "Making predictions for 201711\n",
      "Making predictions for 201712\n"
     ]
    }
   ],
   "source": [
    "print(\"\\nStart LightGBM prediction ...\")\n",
    "# num_threads > 1 will predict very slow in kernal\n",
    "\n",
    "bst = lgb.Booster(model_file=best_model_file) #init model\n",
    "\n",
    "# bst.reset_parameter({\"num_threads\":8})\n",
    "\n",
    "# the only difference in the submission columns is the value of the month for which the prediction is being made\n",
    "# so let's set the value of the respective dummy column to 1\n",
    "\n",
    "smpl_cols = [\"201610\", \"201611\", \"201612\", \"201710\", \"201711\", \"201712\"]\n",
    "\n",
    "submission = {}\n",
    "x = X_test.copy()\n",
    "for c in smpl_cols:\n",
    "    i = int(c[-2:])\n",
    "    print \"Making predictions for %s\" % (c)\n",
    "    x[:,features.index(\"transactionmonth\")] = i\n",
    "    submission[c] = bst.predict(x)\n",
    "\n",
    "submission = pd.DataFrame(submission)\n",
    "submission['ParcelId'] = test_df['parcelid']\n",
    "submission.set_index('ParcelId', inplace=True)"
   ]
  },
  {
   "cell_type": "code",
   "execution_count": 143,
   "metadata": {
    "collapsed": true
   },
   "outputs": [],
   "source": [
    "cur_date = datetime.datetime.now()\n",
    "filename = cur_date.strftime(\"%y-%m-%d_%H:%M:%S\") + \"_%2.5f.csv\"%best_score\n",
    "\n",
    "submission.to_csv(out_dir + \"/\" + filename)"
   ]
  },
  {
   "cell_type": "code",
   "execution_count": null,
   "metadata": {
    "collapsed": true
   },
   "outputs": [],
   "source": []
  }
 ],
 "metadata": {
  "kernelspec": {
   "display_name": "Python 2",
   "language": "python",
   "name": "python2"
  },
  "language_info": {
   "codemirror_mode": {
    "name": "ipython",
    "version": 2
   },
   "file_extension": ".py",
   "mimetype": "text/x-python",
   "name": "python",
   "nbconvert_exporter": "python",
   "pygments_lexer": "ipython2",
   "version": "2.7.12"
  }
 },
 "nbformat": 4,
 "nbformat_minor": 2
}
