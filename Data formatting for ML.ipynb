{
 "cells": [
  {
   "cell_type": "code",
   "execution_count": 42,
   "metadata": {},
   "outputs": [],
   "source": [
    "import numpy as np\n",
    "import pandas as pd\n",
    "from sklearn.model_selection import train_test_split\n",
    "from scipy.sparse import coo_matrix, csr_matrix, save_npz\n",
    "from sklearn.preprocessing import OneHotEncoder, LabelEncoder\n",
    "\n",
    "import os, sys\n",
    "import csv\n",
    "\n",
    "import gzip\n",
    "import cPickle as pickle\n",
    "\n",
    "import calendar\n",
    "\n",
    "import matplotlib\n",
    "% matplotlib inline"
   ]
  },
  {
   "cell_type": "code",
   "execution_count": 2,
   "metadata": {
    "collapsed": true
   },
   "outputs": [],
   "source": [
    "in_dir = \"/home/data/kaggle-zillow/\"\n",
    "out_dir= in_dir + \"processed\"\n",
    "\n",
    "if not os.path.exists(out_dir):\n",
    "    os.makedirs(out_dir)"
   ]
  },
  {
   "cell_type": "markdown",
   "metadata": {},
   "source": [
    "# Read in and format data for analysis"
   ]
  },
  {
   "cell_type": "code",
   "execution_count": 3,
   "metadata": {},
   "outputs": [
    {
     "name": "stdout",
     "output_type": "stream",
     "text": [
      "\n",
      "Reading data from disk ...\n"
     ]
    },
    {
     "name": "stderr",
     "output_type": "stream",
     "text": [
      "/usr/local/lib/python2.7/dist-packages/IPython/core/interactiveshell.py:2717: DtypeWarning: Columns (22,32,34,49,55) have mixed types. Specify dtype option on import or set low_memory=False.\n",
      "  interactivity=interactivity, compiler=compiler, result=result)\n"
     ]
    }
   ],
   "source": [
    "# read in raw data\n",
    "\n",
    "print( \"\\nReading data from disk ...\")\n",
    "prop = pd.read_csv(in_dir + 'properties_2016.csv')\n",
    "train = pd.read_csv(in_dir + \"train_2016_v2.csv\", \\\n",
    "                    parse_dates=[\"transactiondate\"])\n",
    "sampl = pd.read_csv(in_dir + \"sample_submission.csv\").rename(\n",
    "            columns={\"ParcelId\":\"parcelid\"})"
   ]
  },
  {
   "cell_type": "code",
   "execution_count": 4,
   "metadata": {},
   "outputs": [
    {
     "data": {
      "text/plain": [
       "((90275, 3), (2985217, 58), (2985217, 7))"
      ]
     },
     "execution_count": 4,
     "metadata": {},
     "output_type": "execute_result"
    }
   ],
   "source": [
    "train.shape, prop.shape, sampl.shape"
   ]
  },
  {
   "cell_type": "markdown",
   "metadata": {},
   "source": [
    "The only variation in the columns of the test data is across months. So it would make sense to make 6 separate predictions, in which all that changes in the feature matrix is the month column. "
   ]
  },
  {
   "cell_type": "code",
   "execution_count": 5,
   "metadata": {},
   "outputs": [
    {
     "name": "stdout",
     "output_type": "stream",
     "text": [
      "\n",
      " Reading in variable info ...\n"
     ]
    }
   ],
   "source": [
    "print \"\\n Reading in variable info ...\"\n",
    "\n",
    "xl = pd.ExcelFile(in_dir + 'zillow_data_dictionary.xlsx')\n",
    "xl.sheet_names  # see all sheet names\n",
    "\n",
    "vars_dict = {}\n",
    "\n",
    "for sheet in xl.sheet_names:\n",
    "    df = xl.parse(sheet)\n",
    "    vars_dict[sheet.lower()] = dict(zip(df.iloc[:,0], df.iloc[:,1]))\n",
    "    \n",
    "# save dictionary to disc\n",
    "with gzip.open(out_dir + \"/vars_dict.pickle.gz\", \"w\") as f:\n",
    "    pickle.dump(vars_dict, f)"
   ]
  },
  {
   "cell_type": "code",
   "execution_count": 6,
   "metadata": {},
   "outputs": [
    {
     "name": "stdout",
     "output_type": "stream",
     "text": [
      "propertyzoningdesc 5638 object\n",
      "propertycountylandusecode 240 object\n",
      "censustractandblock 96771 float64\n",
      "rawcensustractandblock 99393 float64\n"
     ]
    }
   ],
   "source": [
    "for c in ['propertyzoningdesc', 'propertycountylandusecode', \n",
    "          'censustractandblock', 'rawcensustractandblock']:\n",
    "    print c, prop[c].nunique(), prop[c].dtype"
   ]
  },
  {
   "cell_type": "code",
   "execution_count": 10,
   "metadata": {
    "collapsed": true
   },
   "outputs": [],
   "source": [
    "def format_data(df, retain_cols=None):\n",
    "    train_df = df.copy()\n",
    "    if retain_cols is not None:\n",
    "        train_df = train_df[[c for c in train_df.columns if c in retain_cols]]\n",
    "\n",
    "    # remove variables with too many categories\n",
    "    drop_cols = ['censustractandblock', \n",
    "                 'rawcensustractandblock', \n",
    "                 \"propertyzoningdesc\"]\n",
    "    train_df.drop([c for c in train_df.columns if c in drop_cols], \n",
    "                  axis=1, inplace=True)            \n",
    "\n",
    "    # remove variables with no variation\n",
    "    tr_std = train_df.std()\n",
    "    train_df.drop(tr_std[tr_std==0].index, axis=1, inplace=True)\n",
    "\n",
    "    # format categorical variables\n",
    "\n",
    "    if 'taxdelinquencyflag' in train_df.columns:\n",
    "        train_df['taxdelinquencyflag'] = train_df['taxdelinquencyflag'].apply(lambda x: 1 if x=='Y' else 0)\n",
    "    if 'fireplaceflag' in train_df.columns:\n",
    "        train_df['fireplaceflag'] = train_df['fireplaceflag'].apply(lambda x: 1 if x==True else 0)\n",
    "    if 'hashottuborspa' in train_df.columns:\n",
    "        train_df['hashottuborspa'] = train_df['hashottuborspa'].apply(lambda x: 1 if x==True else 0)\n",
    "\n",
    "    categ_cols = ['parcelid'] + [c for c in train_df.columns \n",
    "                      if c in vars_dict.keys() or train_df[c].dtype==np.dtype('O') ]\n",
    "    \n",
    "    # some categorical variables are actually codes (FIPS, ZIP, Census Blocks, etc)\n",
    "    # the problem is that some of these codes are very numerous!\n",
    "    # perhaps just remove them?\n",
    "    categ_cols += ['propertycountylandusecode',\n",
    "                   'fips', 'regionidcity', 'regionidcounty',\n",
    "                   'regionidneighborhood', 'regionidzip']\n",
    "\n",
    "    # format date fields\n",
    "    if 'transactiondate' in train_df.columns:\n",
    "        train_df['transactionmonth'] = train_df['transactiondate'].apply(\\\n",
    "                                                        lambda x: x.month)\n",
    "        categ_cols += ['transactionmonth']\n",
    "        train_df.drop(\"transactiondate\", axis=1, inplace=True)\n",
    "    categ_cols = list(set(categ_cols))\n",
    "    \n",
    "    for c in categ_cols:\n",
    "        if train_df[c].dtype != np.dtype('O'):\n",
    "            train_df[c] = train_df[c].apply(lambda x: 0 if np.isnan(x) else int(x)).astype(str)\n",
    "        else:\n",
    "            levels = train_df[c].unique()\n",
    "            levels_dict = dict(zip(levels, range(len(levels))))\n",
    "            train_df[c] = train_df[c].apply(lambda x: 0 if pd.isnull(x) else levels_dict[x]).astype(str)\n",
    "        \n",
    "    # fill missing values for some variables with 0\n",
    "    # it makes more sense that for attributes like pools and fireplaces,\n",
    "    # which may not be populated because they don't exist\n",
    "\n",
    "    vars_fill_zero = ['poolsizesum', 'basementsqft', 'fireplacecnt', \n",
    "                      'fullbathcnt', 'garagecarcnt', 'garagetotalsqft',\n",
    "                      'calculatedbathnbr', 'finishedfloor1squarefeet',\n",
    "                      'finishedsquarefeet13', 'finishedsquarefeet15', \n",
    "                      'finishedsquarefeet50', 'finishedsquarefeet6', \n",
    "                      'threequarterbathnbr', 'yardbuildingsqft17',\n",
    "                      'yardbuildingsqft26'\n",
    "                      ]\n",
    "    for c in vars_fill_zero:\n",
    "        train_df[c] = train_df[c].fillna(0)\n",
    "\n",
    "    # replace missing values for other variables with column medians\n",
    "    median_values = train_df.median(axis=0)\n",
    "    train_df = train_df.fillna(median_values, inplace=True)\n",
    "\n",
    "    # years from 2016 of property being tax delinquent \n",
    "    train_df['taxdelinquencyyear'] = train_df['taxdelinquencyyear'].apply(\\\n",
    "                                        lambda x: 2016-(2000+x if x < 16 else 1900+x))\n",
    "    \n",
    "    return train_df"
   ]
  },
  {
   "cell_type": "markdown",
   "metadata": {},
   "source": [
    "#### Process training dataset"
   ]
  },
  {
   "cell_type": "code",
   "execution_count": 11,
   "metadata": {},
   "outputs": [],
   "source": [
    "# join in property and score data\n",
    "train_df = pd.merge(train, prop, on='parcelid', how='left')\n",
    "\n",
    "# format training data\n",
    "train_df = format_data(train_df)\n",
    "\n",
    "train_df.to_csv(out_dir + \"/train_formatted.csv\", index=False, \n",
    "                quoting=csv.QUOTE_NONNUMERIC)\n",
    "\n",
    "# save to numpy arrays\n",
    "y_train = train_df['logerror'].values\n",
    "train_df.drop([\"logerror\", \"parcelid\"], axis=1, inplace=True)\n",
    "features= train_df.columns.values.tolist()\n",
    "categ_vars = train_df.columns[train_df.dtypes == object].values.tolist()\n",
    "X_train = train_df.values\n",
    "\n",
    "with gzip.open(out_dir + \"/train_formatted.pickle.gz\", \"w\") as f:\n",
    "    pickle.dump({'X_train' : X_train,\n",
    "                 'y_train' : y_train,\n",
    "                 'features': features,\n",
    "                 'categ_vars': categ_vars},\n",
    "               f)"
   ]
  },
  {
   "cell_type": "code",
   "execution_count": 12,
   "metadata": {},
   "outputs": [
    {
     "name": "stdout",
     "output_type": "stream",
     "text": [
      "airconditioningtypeid 7\n",
      "architecturalstyletypeid 7\n",
      "fips 3\n",
      "heatingorsystemtypeid 13\n",
      "propertycountylandusecode 77\n",
      "propertylandusetypeid 14\n",
      "regionidcity 178\n",
      "regionidcounty 3\n",
      "regionidneighborhood 495\n",
      "regionidzip 389\n",
      "typeconstructiontypeid 4\n",
      "transactionmonth 12\n"
     ]
    }
   ],
   "source": [
    "for c in train_df.columns:\n",
    "    if train_df[c].dtype == object:\n",
    "        print c, train_df[c].nunique()"
   ]
  },
  {
   "cell_type": "markdown",
   "metadata": {},
   "source": [
    "#### Process test dataset"
   ]
  },
  {
   "cell_type": "code",
   "execution_count": 13,
   "metadata": {
    "collapsed": true
   },
   "outputs": [],
   "source": [
    "# format test data\n",
    "smpl_cols = [\"201610\", \"201611\", \"201612\", \"201710\", \"201711\", \"201712\"]\n",
    "test_df = pd.merge(sampl, prop, on='parcelid', how='left').drop(smpl_cols, axis=1)\n",
    "\n",
    "test_df = format_data(test_df, retain_cols=['parcelid'] + features)\n",
    "\n",
    "test_df.to_csv(out_dir + \"/sample_formatted.csv\", index=False, \n",
    "               quoting=csv.QUOTE_NONNUMERIC)"
   ]
  },
  {
   "cell_type": "code",
   "execution_count": 14,
   "metadata": {
    "collapsed": true
   },
   "outputs": [],
   "source": [
    "parcelids = test_df['parcelid'].values\n",
    "test_df.drop([\"parcelid\"], axis=1, inplace=True)\n",
    "test_df.insert(test_df.shape[1], 'transactionmonth', 0)\n",
    "\n",
    "X_test = test_df[features].values\n",
    "\n",
    "with gzip.open(out_dir + \"/sample_formatted.pickle.gz\", \"w\") as f:\n",
    "    pickle.dump({'X_test' : X_test,\n",
    "                 'features': features,\n",
    "                 'parcelid': parcelids,\n",
    "                 'categ_vars': categ_vars},\n",
    "               f)"
   ]
  },
  {
   "cell_type": "markdown",
   "metadata": {},
   "source": [
    "#### Construct dataset with expanded categorical columns & combine dataset for semi-supervised learning"
   ]
  },
  {
   "cell_type": "code",
   "execution_count": 15,
   "metadata": {},
   "outputs": [
    {
     "name": "stdout",
     "output_type": "stream",
     "text": [
      "airconditioningtypeid 8\n",
      "architecturalstyletypeid 9\n",
      "fips 4\n",
      "heatingorsystemtypeid 15\n",
      "propertycountylandusecode 241\n",
      "propertylandusetypeid 16\n",
      "regionidcity 187\n",
      "regionidcounty 4\n",
      "regionidneighborhood 529\n",
      "regionidzip 406\n",
      "typeconstructiontypeid 6\n",
      "transactionmonth 13\n"
     ]
    }
   ],
   "source": [
    "n_categs = {}\n",
    "for c in categ_vars:\n",
    "    n_categs[c] = len(set(train_df[c].unique().tolist() + \\\n",
    "                          test_df[c].unique().tolist()))\n",
    "    print c, n_categs[c]\n"
   ]
  },
  {
   "cell_type": "code",
   "execution_count": 19,
   "metadata": {},
   "outputs": [],
   "source": [
    "all_df = pd.concat([train_df[features], test_df[features]])"
   ]
  },
  {
   "cell_type": "code",
   "execution_count": 20,
   "metadata": {},
   "outputs": [],
   "source": [
    "all_df_dum = pd.get_dummies(all_df, sparse=True)"
   ]
  },
  {
   "cell_type": "code",
   "execution_count": 37,
   "metadata": {},
   "outputs": [
    {
     "data": {
      "text/plain": [
       "((90275, 1471), (2985217, 1471))"
      ]
     },
     "execution_count": 37,
     "metadata": {},
     "output_type": "execute_result"
    }
   ],
   "source": [
    "X_train_dum = coo_matrix(all_df_dum.iloc[:len(train_df)].values, \\\n",
    "                         shape=(len(train_df), train_df.shape[1]))\n",
    "X_test_dum  = coo_matrix(all_df_dum.iloc[len(train_df):].values, \\\n",
    "                        shape=(len(test_df), test_df.shape[1]))\n",
    "X_train_dum.shape, X_test_dum.shape"
   ]
  },
  {
   "cell_type": "code",
   "execution_count": 45,
   "metadata": {},
   "outputs": [],
   "source": [
    "features_dum = all_df_dum.columns.values.tolist()\n",
    "save_npz(out_dir + \"/X_train.npz\", X_train_dum)\n",
    "save_npz(out_dir + \"/X_test.npz\", X_test_dum)\n",
    "np.savez_compressed(out_dir + \"/y_train.npz\", y_train)\n",
    "np.savez_compressed(out_dir + \"/features.npz\", [features, features_dum])"
   ]
  },
  {
   "cell_type": "code",
   "execution_count": 46,
   "metadata": {
    "collapsed": true
   },
   "outputs": [],
   "source": [
    "np.savez_compressed(out_dir + \"/y_train.npz\", y_train)\n",
    "np.savez_compressed(out_dir + \"/features.npz\", [features, features_dum])"
   ]
  },
  {
   "cell_type": "code",
   "execution_count": null,
   "metadata": {
    "collapsed": true
   },
   "outputs": [],
   "source": []
  }
 ],
 "metadata": {
  "kernelspec": {
   "display_name": "Python 2",
   "language": "python",
   "name": "python2"
  },
  "language_info": {
   "codemirror_mode": {
    "name": "ipython",
    "version": 2
   },
   "file_extension": ".py",
   "mimetype": "text/x-python",
   "name": "python",
   "nbconvert_exporter": "python",
   "pygments_lexer": "ipython2",
   "version": "2.7.12"
  }
 },
 "nbformat": 4,
 "nbformat_minor": 2
}
