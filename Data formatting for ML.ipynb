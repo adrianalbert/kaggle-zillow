{
 "cells": [
  {
   "cell_type": "code",
   "execution_count": 9,
   "metadata": {
    "collapsed": true
   },
   "outputs": [],
   "source": [
    "import numpy as np\n",
    "import pandas as pd\n",
    "\n",
    "import os, sys\n",
    "\n",
    "import gzip\n",
    "import cPickle as pickle\n",
    "\n",
    "import calendar\n",
    "\n",
    "import matplotlib\n",
    "% matplotlib inline"
   ]
  },
  {
   "cell_type": "code",
   "execution_count": 20,
   "metadata": {
    "collapsed": true
   },
   "outputs": [],
   "source": [
    "in_dir = \"/home/data/kaggle-zillow/\"\n",
    "out_dir= in_dir + \"processed\"\n",
    "\n",
    "if not os.path.exists(out_dir):\n",
    "    os.makedirs(out_dir)"
   ]
  },
  {
   "cell_type": "markdown",
   "metadata": {},
   "source": [
    "# Read in and format data for analysis"
   ]
  },
  {
   "cell_type": "code",
   "execution_count": 3,
   "metadata": {},
   "outputs": [
    {
     "name": "stdout",
     "output_type": "stream",
     "text": [
      "\n",
      "Reading data from disk ...\n"
     ]
    },
    {
     "name": "stderr",
     "output_type": "stream",
     "text": [
      "/usr/local/lib/python2.7/dist-packages/IPython/core/interactiveshell.py:2717: DtypeWarning: Columns (22,32,34,49,55) have mixed types. Specify dtype option on import or set low_memory=False.\n",
      "  interactivity=interactivity, compiler=compiler, result=result)\n"
     ]
    }
   ],
   "source": [
    "# read in raw data\n",
    "\n",
    "print( \"\\nReading data from disk ...\")\n",
    "prop = pd.read_csv(in_dir + 'properties_2016.csv')\n",
    "train = pd.read_csv(in_dir + \"train_2016_v2.csv\", \\\n",
    "                    parse_dates=[\"transactiondate\"])\n",
    "sampl = pd.read_csv(in_dir + \"sample_submission.csv\").rename(\n",
    "            columns={\"ParcelId\":\"parcelid\"})"
   ]
  },
  {
   "cell_type": "code",
   "execution_count": 4,
   "metadata": {},
   "outputs": [
    {
     "data": {
      "text/plain": [
       "((90275, 3), (2985217, 58), (2985217, 7))"
      ]
     },
     "execution_count": 4,
     "metadata": {},
     "output_type": "execute_result"
    }
   ],
   "source": [
    "train.shape, prop.shape, sampl.shape"
   ]
  },
  {
   "cell_type": "markdown",
   "metadata": {},
   "source": [
    "The only variation in the columns of the test data is across months. So it would make sense to make 6 separate predictions, in which all that changes in the feature matrix is the month column. "
   ]
  },
  {
   "cell_type": "code",
   "execution_count": 6,
   "metadata": {},
   "outputs": [
    {
     "data": {
      "text/html": [
       "<div>\n",
       "<table border=\"1\" class=\"dataframe\">\n",
       "  <thead>\n",
       "    <tr style=\"text-align: right;\">\n",
       "      <th></th>\n",
       "      <th>parcelid</th>\n",
       "      <th>201610</th>\n",
       "      <th>201611</th>\n",
       "      <th>201612</th>\n",
       "      <th>201710</th>\n",
       "      <th>201711</th>\n",
       "      <th>201712</th>\n",
       "    </tr>\n",
       "  </thead>\n",
       "  <tbody>\n",
       "    <tr>\n",
       "      <th>0</th>\n",
       "      <td>10754147</td>\n",
       "      <td>0</td>\n",
       "      <td>0</td>\n",
       "      <td>0</td>\n",
       "      <td>0</td>\n",
       "      <td>0</td>\n",
       "      <td>0</td>\n",
       "    </tr>\n",
       "    <tr>\n",
       "      <th>1</th>\n",
       "      <td>10759547</td>\n",
       "      <td>0</td>\n",
       "      <td>0</td>\n",
       "      <td>0</td>\n",
       "      <td>0</td>\n",
       "      <td>0</td>\n",
       "      <td>0</td>\n",
       "    </tr>\n",
       "    <tr>\n",
       "      <th>2</th>\n",
       "      <td>10843547</td>\n",
       "      <td>0</td>\n",
       "      <td>0</td>\n",
       "      <td>0</td>\n",
       "      <td>0</td>\n",
       "      <td>0</td>\n",
       "      <td>0</td>\n",
       "    </tr>\n",
       "    <tr>\n",
       "      <th>3</th>\n",
       "      <td>10859147</td>\n",
       "      <td>0</td>\n",
       "      <td>0</td>\n",
       "      <td>0</td>\n",
       "      <td>0</td>\n",
       "      <td>0</td>\n",
       "      <td>0</td>\n",
       "    </tr>\n",
       "    <tr>\n",
       "      <th>4</th>\n",
       "      <td>10879947</td>\n",
       "      <td>0</td>\n",
       "      <td>0</td>\n",
       "      <td>0</td>\n",
       "      <td>0</td>\n",
       "      <td>0</td>\n",
       "      <td>0</td>\n",
       "    </tr>\n",
       "  </tbody>\n",
       "</table>\n",
       "</div>"
      ],
      "text/plain": [
       "   parcelid  201610  201611  201612  201710  201711  201712\n",
       "0  10754147       0       0       0       0       0       0\n",
       "1  10759547       0       0       0       0       0       0\n",
       "2  10843547       0       0       0       0       0       0\n",
       "3  10859147       0       0       0       0       0       0\n",
       "4  10879947       0       0       0       0       0       0"
      ]
     },
     "execution_count": 6,
     "metadata": {},
     "output_type": "execute_result"
    }
   ],
   "source": [
    "sampl.head()"
   ]
  },
  {
   "cell_type": "code",
   "execution_count": 40,
   "metadata": {},
   "outputs": [
    {
     "name": "stdout",
     "output_type": "stream",
     "text": [
      "\n",
      " Reading in variable info ...\n"
     ]
    }
   ],
   "source": [
    "print \"\\n Reading in variable info ...\"\n",
    "\n",
    "xl = pd.ExcelFile(in_dir + 'zillow_data_dictionary.xlsx')\n",
    "xl.sheet_names  # see all sheet names\n",
    "\n",
    "vars_dict = {}\n",
    "\n",
    "for sheet in xl.sheet_names:\n",
    "    df = xl.parse(sheet)\n",
    "    vars_dict[sheet.lower()] = dict(zip(df.iloc[:,0], df.iloc[:,1]))\n",
    "    \n",
    "# save dictionary to disc\n",
    "with gzip.open(out_dir + \"/vars_dict.pickle.gz\", \"w\") as f:\n",
    "    pickle.dump(vars_dict, f)"
   ]
  },
  {
   "cell_type": "code",
   "execution_count": 58,
   "metadata": {},
   "outputs": [
    {
     "data": {
      "text/plain": [
       "array(['parcelid', 'logerror', 'basementsqft', 'bathroomcnt', 'bedroomcnt',\n",
       "       'buildingqualitytypeid', 'calculatedbathnbr',\n",
       "       'finishedfloor1squarefeet', 'calculatedfinishedsquarefeet',\n",
       "       'finishedsquarefeet12', 'finishedsquarefeet13',\n",
       "       'finishedsquarefeet15', 'finishedsquarefeet50',\n",
       "       'finishedsquarefeet6', 'fireplacecnt', 'fullbathcnt',\n",
       "       'garagecarcnt', 'garagetotalsqft', 'hashottuborspa', 'latitude',\n",
       "       'longitude', 'lotsizesquarefeet', 'poolsizesum',\n",
       "       'rawcensustractandblock', 'regionidcity', 'regionidcounty',\n",
       "       'regionidneighborhood', 'regionidzip', 'roomcnt',\n",
       "       'threequarterbathnbr', 'unitcnt', 'yardbuildingsqft17',\n",
       "       'yardbuildingsqft26', 'yearbuilt', 'numberofstories',\n",
       "       'fireplaceflag', 'structuretaxvaluedollarcnt', 'taxvaluedollarcnt',\n",
       "       'landtaxvaluedollarcnt', 'taxamount', 'taxdelinquencyflag',\n",
       "       'taxdelinquencyyear', 'censustractandblock',\n",
       "       'airconditioningtypeid_0', 'airconditioningtypeid_1',\n",
       "       'airconditioningtypeid_3', 'airconditioningtypeid_5',\n",
       "       'airconditioningtypeid_9', 'airconditioningtypeid_11',\n",
       "       'airconditioningtypeid_13', 'architecturalstyletypeid_0',\n",
       "       'architecturalstyletypeid_2', 'architecturalstyletypeid_3',\n",
       "       'architecturalstyletypeid_7', 'architecturalstyletypeid_8',\n",
       "       'architecturalstyletypeid_10', 'architecturalstyletypeid_21',\n",
       "       'heatingorsystemtypeid_0', 'heatingorsystemtypeid_1',\n",
       "       'heatingorsystemtypeid_2', 'heatingorsystemtypeid_6',\n",
       "       'heatingorsystemtypeid_7', 'heatingorsystemtypeid_10',\n",
       "       'heatingorsystemtypeid_11', 'heatingorsystemtypeid_12',\n",
       "       'heatingorsystemtypeid_13', 'heatingorsystemtypeid_14',\n",
       "       'heatingorsystemtypeid_18', 'heatingorsystemtypeid_20',\n",
       "       'heatingorsystemtypeid_24', 'propertylandusetypeid_31',\n",
       "       'propertylandusetypeid_47', 'propertylandusetypeid_246',\n",
       "       'propertylandusetypeid_247', 'propertylandusetypeid_248',\n",
       "       'propertylandusetypeid_260', 'propertylandusetypeid_261',\n",
       "       'propertylandusetypeid_263', 'propertylandusetypeid_264',\n",
       "       'propertylandusetypeid_265', 'propertylandusetypeid_266',\n",
       "       'propertylandusetypeid_267', 'propertylandusetypeid_269',\n",
       "       'propertylandusetypeid_275', 'typeconstructiontypeid_0',\n",
       "       'typeconstructiontypeid_4', 'typeconstructiontypeid_6',\n",
       "       'typeconstructiontypeid_13', 'fips_6037', 'fips_6059', 'fips_6111',\n",
       "       'transactionmonth_Apr', 'transactionmonth_Aug',\n",
       "       'transactionmonth_Dec', 'transactionmonth_Feb',\n",
       "       'transactionmonth_Jan', 'transactionmonth_Jul',\n",
       "       'transactionmonth_Jun', 'transactionmonth_Mar',\n",
       "       'transactionmonth_May', 'transactionmonth_Nov',\n",
       "       'transactionmonth_Oct', 'transactionmonth_Sep'], dtype=object)"
      ]
     },
     "execution_count": 58,
     "metadata": {},
     "output_type": "execute_result"
    }
   ],
   "source": [
    "train_df.columns.values"
   ]
  },
  {
   "cell_type": "code",
   "execution_count": 59,
   "metadata": {},
   "outputs": [
    {
     "data": {
      "text/plain": [
       "494"
      ]
     },
     "execution_count": 59,
     "metadata": {},
     "output_type": "execute_result"
    }
   ],
   "source": [
    "train_df['regionidneighborhood'].nunique()"
   ]
  },
  {
   "cell_type": "code",
   "execution_count": 45,
   "metadata": {
    "collapsed": true
   },
   "outputs": [],
   "source": [
    "def format_data(df, retain_cols=None):\n",
    "    train_df = df.copy()\n",
    "    if retain_cols is not None:\n",
    "        train_df = train_df[[c for c in train_df.columns if c in retain_cols]]\n",
    "\n",
    "    # remove variables with too many categories\n",
    "    for c in ['propertyzoningdesc', 'propertycountylandusecode']:\n",
    "        if c in train_df.columns:\n",
    "            train_df.drop(c, axis=1, inplace=True)\n",
    "\n",
    "    # remove variables with no variation\n",
    "    tr_std = train_df.std()\n",
    "    train_df.drop(tr_std[tr_std==0].index, axis=1, inplace=True)\n",
    "\n",
    "    # format categorical variables\n",
    "\n",
    "    train_df['taxdelinquencyflag'] = train_df['taxdelinquencyflag'].apply(lambda x: 1 if x=='Y' else 0)\n",
    "    train_df['fireplaceflag'] = train_df['fireplaceflag'].apply(lambda x: 1 if x==True else 0)\n",
    "    train_df['hashottuborspa'] = train_df['hashottuborspa'].apply(lambda x: 1 if x==True else 0)\n",
    "\n",
    "    categ_cols = ['parcelid'] + [c for c in train_df.columns \n",
    "                      if c in vars_dict.keys() or train_df[c].dtype==np.dtype('O') ]\n",
    "    \n",
    "    # some categorical variables are actually codes (FIPS, ZIP, Census Blocks, etc)\n",
    "    # the problem is that some of these codes are very numerous!\n",
    "    # perhaps just remove them?\n",
    "    categ_cols += ['fips', 'rawcensustractandblock', 'regionidcounty', 'regionidneighborhood', 'regionidzip']\n",
    "\n",
    "    print train_df[categ_cols].count()\n",
    "\n",
    "    for c in categ_cols:\n",
    "        train_df[c] = train_df[c].apply(lambda x: 0 if np.isnan(x) else x).astype(str)\n",
    "        \n",
    "    # format date fields\n",
    "    if 'transactiondate' in train_df.columns:\n",
    "        train_df['transactionmonth'] = train_df['transactiondate'].apply(\\\n",
    "                                                        lambda x: calendar.month_abbr[x.month])\n",
    "    #     # we don't have access to transaction day in the test (submission) set\n",
    "    #     train_df['transactionday'] = train_df['transactiondate'].apply(\\\n",
    "    #                                                     lambda x: int(x.day))\n",
    "    #     train_df['transactiondayofweek'] = train_df['transactiondate'].apply(\\\n",
    "    #                                                     lambda x: calendar.day_abbr[x.dayofweek])\n",
    "        categ_cols += ['transactionmonth']#, 'transactionday', 'transactiondayofweek']\n",
    "        train_df.drop(\"transactiondate\", axis=1, inplace=True)\n",
    "    \n",
    "    # fill missing values for some variables with 0\n",
    "    # it makes more sense that for attributes like pools and fireplaces,\n",
    "    # which may not be populated because they don't exist\n",
    "\n",
    "    vars_fill_zero = ['poolsizesum', 'basementsqft', 'fireplacecnt', \n",
    "                      'fullbathcnt', 'garagecarcnt', 'garagetotalsqft',\n",
    "                      'calculatedbathnbr', 'finishedfloor1squarefeet',\n",
    "                      'finishedsquarefeet13', 'finishedsquarefeet15', \n",
    "                      'finishedsquarefeet50', 'finishedsquarefeet6', \n",
    "                      'threequarterbathnbr', 'yardbuildingsqft17',\n",
    "                      'yardbuildingsqft26'\n",
    "                      ]\n",
    "    for c in vars_fill_zero:\n",
    "        train_df[c] = train_df[c].fillna(0)\n",
    "\n",
    "    # replace missing values for other variables with column medians\n",
    "    median_values = train_df.median(axis=0)\n",
    "    train_df = train_df.fillna(median_values, inplace=True)\n",
    "\n",
    "    # years from 2016 of property being tax delinquent \n",
    "    train_df['taxdelinquencyyear'] = train_df['taxdelinquencyyear'].apply(\\\n",
    "                                        lambda x: 2016-(2000+x if x < 16 else 1900+x))\n",
    "    \n",
    "    train_df_dum = pd.get_dummies(train_df, columns=categ_cols, drop_first=False)\n",
    "    return train_df_dum, train_df.columns.values.tolist()"
   ]
  },
  {
   "cell_type": "code",
   "execution_count": 46,
   "metadata": {},
   "outputs": [
    {
     "name": "stdout",
     "output_type": "stream",
     "text": [
      "airconditioningtypeid       28781\n",
      "architecturalstyletypeid      261\n",
      "heatingorsystemtypeid       56080\n",
      "propertylandusetypeid       90275\n",
      "typeconstructiontypeid        299\n",
      "fips                        90275\n",
      "dtype: int64\n"
     ]
    }
   ],
   "source": [
    "# join in property and score data\n",
    "train_df = pd.merge(train, prop, on='parcelid', how='left')\n",
    "\n",
    "# format training data\n",
    "train_df, final_vars = format_data(train_df)\n",
    "\n",
    "train_df.to_csv(out_dir + \"/train_formatted.csv\")"
   ]
  },
  {
   "cell_type": "code",
   "execution_count": 51,
   "metadata": {},
   "outputs": [
    {
     "data": {
      "text/plain": [
       "(388,)"
      ]
     },
     "execution_count": 51,
     "metadata": {},
     "output_type": "execute_result"
    }
   ],
   "source": [
    "train_df['regionidzip'].value_counts().shape"
   ]
  },
  {
   "cell_type": "code",
   "execution_count": 57,
   "metadata": {},
   "outputs": [
    {
     "data": {
      "text/plain": [
       "12447.0     20559\n",
       "25218.0      3389\n",
       "46298.0      3000\n",
       "52650.0      2132\n",
       "54311.0      2128\n",
       "5534.0       2035\n",
       "40227.0      1949\n",
       "16764.0      1800\n",
       "34278.0      1383\n",
       "27110.0      1266\n",
       "12773.0      1222\n",
       "47019.0      1187\n",
       "13150.0      1120\n",
       "47568.0      1097\n",
       "45457.0      1052\n",
       "24812.0      1037\n",
       "33252.0      1034\n",
       "34543.0       949\n",
       "51239.0       932\n",
       "54722.0       929\n",
       "53571.0       923\n",
       "25459.0       904\n",
       "24832.0       891\n",
       "32380.0       820\n",
       "13693.0       815\n",
       "37086.0       791\n",
       "33612.0       772\n",
       "20008.0       756\n",
       "21412.0       729\n",
       "15554.0       693\n",
       "            ...  \n",
       "114828.0       50\n",
       "30399.0        49\n",
       "113412.0       47\n",
       "118875.0       40\n",
       "16961.0        39\n",
       "16389.0        36\n",
       "272578.0       33\n",
       "3491.0         30\n",
       "32753.0        30\n",
       "25468.0        27\n",
       "38980.0        25\n",
       "6822.0         24\n",
       "13232.0        21\n",
       "42091.0        20\n",
       "114834.0       18\n",
       "34037.0        16\n",
       "25271.0        14\n",
       "33312.0        14\n",
       "25621.0        14\n",
       "14906.0        13\n",
       "31134.0        12\n",
       "53162.0         9\n",
       "32927.0         5\n",
       "118880.0        4\n",
       "10815.0         4\n",
       "13311.0         3\n",
       "21395.0         3\n",
       "24797.0         2\n",
       "37882.0         1\n",
       "6285.0          1\n",
       "Name: regionidcity, dtype: int64"
      ]
     },
     "execution_count": 57,
     "metadata": {},
     "output_type": "execute_result"
    }
   ],
   "source": [
    "train_df['regionidcity'].value_counts()"
   ]
  },
  {
   "cell_type": "code",
   "execution_count": 54,
   "metadata": {},
   "outputs": [
    {
     "data": {
      "text/plain": [
       "(42647,)"
      ]
     },
     "execution_count": 54,
     "metadata": {},
     "output_type": "execute_result"
    }
   ],
   "source": [
    "train_df['rawcensustractandblock'].value_counts().shape"
   ]
  },
  {
   "cell_type": "code",
   "execution_count": 55,
   "metadata": {},
   "outputs": [
    {
     "data": {
      "text/plain": [
       "0    6.037107e+07\n",
       "1    6.059052e+07\n",
       "2    6.037464e+07\n",
       "3    6.037296e+07\n",
       "4    6.059042e+07\n",
       "Name: rawcensustractandblock, dtype: float64"
      ]
     },
     "execution_count": 55,
     "metadata": {},
     "output_type": "execute_result"
    }
   ],
   "source": [
    "train_df['rawcensustractandblock'].head()"
   ]
  },
  {
   "cell_type": "code",
   "execution_count": null,
   "metadata": {
    "collapsed": true
   },
   "outputs": [],
   "source": []
  },
  {
   "cell_type": "code",
   "execution_count": 53,
   "metadata": {},
   "outputs": [
    {
     "data": {
      "text/plain": [
       "array(['parcelid', 'logerror', 'basementsqft', 'bathroomcnt', 'bedroomcnt',\n",
       "       'buildingqualitytypeid', 'calculatedbathnbr',\n",
       "       'finishedfloor1squarefeet', 'calculatedfinishedsquarefeet',\n",
       "       'finishedsquarefeet12', 'finishedsquarefeet13',\n",
       "       'finishedsquarefeet15', 'finishedsquarefeet50',\n",
       "       'finishedsquarefeet6', 'fireplacecnt', 'fullbathcnt',\n",
       "       'garagecarcnt', 'garagetotalsqft', 'hashottuborspa', 'latitude',\n",
       "       'longitude', 'lotsizesquarefeet', 'poolsizesum',\n",
       "       'rawcensustractandblock', 'regionidcity', 'regionidcounty',\n",
       "       'regionidneighborhood', 'regionidzip', 'roomcnt',\n",
       "       'threequarterbathnbr', 'unitcnt', 'yardbuildingsqft17',\n",
       "       'yardbuildingsqft26', 'yearbuilt', 'numberofstories',\n",
       "       'fireplaceflag', 'structuretaxvaluedollarcnt', 'taxvaluedollarcnt',\n",
       "       'landtaxvaluedollarcnt', 'taxamount', 'taxdelinquencyflag',\n",
       "       'taxdelinquencyyear', 'censustractandblock',\n",
       "       'airconditioningtypeid_0', 'airconditioningtypeid_1',\n",
       "       'airconditioningtypeid_3', 'airconditioningtypeid_5',\n",
       "       'airconditioningtypeid_9', 'airconditioningtypeid_11',\n",
       "       'airconditioningtypeid_13', 'architecturalstyletypeid_0',\n",
       "       'architecturalstyletypeid_2', 'architecturalstyletypeid_3',\n",
       "       'architecturalstyletypeid_7', 'architecturalstyletypeid_8',\n",
       "       'architecturalstyletypeid_10', 'architecturalstyletypeid_21',\n",
       "       'heatingorsystemtypeid_0', 'heatingorsystemtypeid_1',\n",
       "       'heatingorsystemtypeid_2', 'heatingorsystemtypeid_6',\n",
       "       'heatingorsystemtypeid_7', 'heatingorsystemtypeid_10',\n",
       "       'heatingorsystemtypeid_11', 'heatingorsystemtypeid_12',\n",
       "       'heatingorsystemtypeid_13', 'heatingorsystemtypeid_14',\n",
       "       'heatingorsystemtypeid_18', 'heatingorsystemtypeid_20',\n",
       "       'heatingorsystemtypeid_24', 'propertylandusetypeid_31',\n",
       "       'propertylandusetypeid_47', 'propertylandusetypeid_246',\n",
       "       'propertylandusetypeid_247', 'propertylandusetypeid_248',\n",
       "       'propertylandusetypeid_260', 'propertylandusetypeid_261',\n",
       "       'propertylandusetypeid_263', 'propertylandusetypeid_264',\n",
       "       'propertylandusetypeid_265', 'propertylandusetypeid_266',\n",
       "       'propertylandusetypeid_267', 'propertylandusetypeid_269',\n",
       "       'propertylandusetypeid_275', 'typeconstructiontypeid_0',\n",
       "       'typeconstructiontypeid_4', 'typeconstructiontypeid_6',\n",
       "       'typeconstructiontypeid_13', 'fips_6037', 'fips_6059', 'fips_6111',\n",
       "       'transactionmonth_Apr', 'transactionmonth_Aug',\n",
       "       'transactionmonth_Dec', 'transactionmonth_Feb',\n",
       "       'transactionmonth_Jan', 'transactionmonth_Jul',\n",
       "       'transactionmonth_Jun', 'transactionmonth_Mar',\n",
       "       'transactionmonth_May', 'transactionmonth_Nov',\n",
       "       'transactionmonth_Oct', 'transactionmonth_Sep'], dtype=object)"
      ]
     },
     "execution_count": 53,
     "metadata": {},
     "output_type": "execute_result"
    }
   ],
   "source": [
    "train_df.columns.values"
   ]
  },
  {
   "cell_type": "code",
   "execution_count": 47,
   "metadata": {},
   "outputs": [
    {
     "name": "stdout",
     "output_type": "stream",
     "text": [
      "airconditioningtypeid        811519\n",
      "architecturalstyletypeid       6061\n",
      "heatingorsystemtypeid       1806401\n",
      "propertylandusetypeid       2973780\n",
      "typeconstructiontypeid         6747\n",
      "fips                        2973780\n",
      "dtype: int64\n"
     ]
    }
   ],
   "source": [
    "# format test data\n",
    "\n",
    "test_df  = pd.merge(sampl, prop, on='parcelid', how='left').drop(smpl_cols, axis=1)\n",
    "\n",
    "test_df, _ = format_data(test_df, retain_cols=final_vars)\n",
    "\n",
    "test_df.to_csv(out_dir + \"/sample_formatted.csv\")"
   ]
  },
  {
   "cell_type": "code",
   "execution_count": 60,
   "metadata": {},
   "outputs": [
    {
     "data": {
      "text/plain": [
       "{'201610': 'transactionmonth_Oct',\n",
       " '201611': 'transactionmonth_Nov',\n",
       " '201612': 'transactionmonth_Dec',\n",
       " '201710': 'transactionmonth_Oct',\n",
       " '201711': 'transactionmonth_Nov',\n",
       " '201712': 'transactionmonth_Dec'}"
      ]
     },
     "execution_count": 60,
     "metadata": {},
     "output_type": "execute_result"
    }
   ],
   "source": [
    "smpl_cols"
   ]
  },
  {
   "cell_type": "code",
   "execution_count": null,
   "metadata": {
    "collapsed": true
   },
   "outputs": [],
   "source": []
  }
 ],
 "metadata": {
  "kernelspec": {
   "display_name": "Python 2",
   "language": "python",
   "name": "python2"
  },
  "language_info": {
   "codemirror_mode": {
    "name": "ipython",
    "version": 2
   },
   "file_extension": ".py",
   "mimetype": "text/x-python",
   "name": "python",
   "nbconvert_exporter": "python",
   "pygments_lexer": "ipython2",
   "version": "2.7.12"
  }
 },
 "nbformat": 4,
 "nbformat_minor": 2
}
